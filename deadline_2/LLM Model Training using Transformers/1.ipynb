{
 "cells": [
  {
   "cell_type": "code",
   "execution_count": 3,
   "metadata": {},
   "outputs": [
    {
     "name": "stdout",
     "output_type": "stream",
     "text": [
      "No GPU available, using CPU\n",
      "Using device: cpu\n"
     ]
    }
   ],
   "source": [
    "import os\n",
    "import torch\n",
    "\n",
    "\n",
    "if torch.cuda.is_available():\n",
    "    \n",
    "    torch.cuda.set_device(0)\n",
    "    device = torch.device(\"cuda\")\n",
    "    print(\"Switched to GPU\")\n",
    "else:\n",
    "    \n",
    "    device = torch.device(\"cpu\")\n",
    "    print(\"No GPU available, using CPU\")\n",
    "\n",
    "print(\"Using device:\", device)\n"
   ]
  },
  {
   "cell_type": "code",
   "execution_count": 1,
   "metadata": {},
   "outputs": [
    {
     "name": "stdout",
     "output_type": "stream",
     "text": [
      "Defaulting to user installation because normal site-packages is not writeable\n",
      "Requirement already satisfied: torch in /home/iiitd/.local/lib/python3.10/site-packages (2.2.1)\n",
      "Requirement already satisfied: sympy in /home/iiitd/.local/lib/python3.10/site-packages (from torch) (1.12)\n",
      "Requirement already satisfied: nvidia-cublas-cu12==12.1.3.1 in /home/iiitd/.local/lib/python3.10/site-packages (from torch) (12.1.3.1)\n",
      "Requirement already satisfied: nvidia-cuda-cupti-cu12==12.1.105 in /home/iiitd/.local/lib/python3.10/site-packages (from torch) (12.1.105)\n",
      "Requirement already satisfied: filelock in /home/iiitd/.local/lib/python3.10/site-packages (from torch) (3.13.1)\n",
      "Requirement already satisfied: nvidia-nvtx-cu12==12.1.105 in /home/iiitd/.local/lib/python3.10/site-packages (from torch) (12.1.105)\n",
      "Requirement already satisfied: triton==2.2.0 in /home/iiitd/.local/lib/python3.10/site-packages (from torch) (2.2.0)\n",
      "Requirement already satisfied: nvidia-nccl-cu12==2.19.3 in /home/iiitd/.local/lib/python3.10/site-packages (from torch) (2.19.3)\n",
      "Requirement already satisfied: nvidia-cusparse-cu12==12.1.0.106 in /home/iiitd/.local/lib/python3.10/site-packages (from torch) (12.1.0.106)\n",
      "Requirement already satisfied: typing-extensions>=4.8.0 in /home/iiitd/.local/lib/python3.10/site-packages (from torch) (4.8.0)\n",
      "Requirement already satisfied: jinja2 in /home/iiitd/.local/lib/python3.10/site-packages (from torch) (3.1.2)\n",
      "Requirement already satisfied: nvidia-curand-cu12==10.3.2.106 in /home/iiitd/.local/lib/python3.10/site-packages (from torch) (10.3.2.106)\n",
      "Requirement already satisfied: nvidia-cusolver-cu12==11.4.5.107 in /home/iiitd/.local/lib/python3.10/site-packages (from torch) (11.4.5.107)\n",
      "Requirement already satisfied: fsspec in /home/iiitd/.local/lib/python3.10/site-packages (from torch) (2024.2.0)\n",
      "Requirement already satisfied: nvidia-cufft-cu12==11.0.2.54 in /home/iiitd/.local/lib/python3.10/site-packages (from torch) (11.0.2.54)\n",
      "Requirement already satisfied: networkx in /home/iiitd/.local/lib/python3.10/site-packages (from torch) (3.2.1)\n",
      "Requirement already satisfied: nvidia-cuda-runtime-cu12==12.1.105 in /home/iiitd/.local/lib/python3.10/site-packages (from torch) (12.1.105)\n",
      "Requirement already satisfied: nvidia-cuda-nvrtc-cu12==12.1.105 in /home/iiitd/.local/lib/python3.10/site-packages (from torch) (12.1.105)\n",
      "Requirement already satisfied: nvidia-cudnn-cu12==8.9.2.26 in /home/iiitd/.local/lib/python3.10/site-packages (from torch) (8.9.2.26)\n",
      "Requirement already satisfied: nvidia-nvjitlink-cu12 in /home/iiitd/.local/lib/python3.10/site-packages (from nvidia-cusolver-cu12==11.4.5.107->torch) (12.4.99)\n",
      "Requirement already satisfied: MarkupSafe>=2.0 in /home/iiitd/.local/lib/python3.10/site-packages (from jinja2->torch) (2.1.3)\n",
      "Requirement already satisfied: mpmath>=0.19 in /home/iiitd/.local/lib/python3.10/site-packages (from sympy->torch) (1.3.0)\n"
     ]
    }
   ],
   "source": [
    "!pip install torch"
   ]
  },
  {
   "cell_type": "code",
   "execution_count": 2,
   "metadata": {},
   "outputs": [
    {
     "name": "stdout",
     "output_type": "stream",
     "text": [
      "No GPU available, using CPU\n",
      "Using device: cpu\n"
     ]
    }
   ],
   "source": [
    "import os\n",
    "import torch\n",
    "\n",
    "\n",
    "if torch.cuda.is_available():\n",
    "   \n",
    "    torch.cuda.set_device(0)\n",
    "    device = torch.device(\"cuda\")\n",
    "    print(\"Switched to GPU\")\n",
    "else:\n",
    "   \n",
    "    device = torch.device(\"cpu\")\n",
    "    print(\"No GPU available, using CPU\")\n",
    "\n",
    "print(\"Using device:\", device)\n"
   ]
  },
  {
   "cell_type": "code",
   "execution_count": 4,
   "metadata": {},
   "outputs": [
    {
     "name": "stdout",
     "output_type": "stream",
     "text": [
      "CUDA Available: False\n",
      "Number of CUDA devices: 0\n"
     ]
    }
   ],
   "source": [
    "import torch\n",
    "\n",
    "print(\"CUDA Available:\", torch.cuda.is_available())\n",
    "print(\"Number of CUDA devices:\", torch.cuda.device_count())\n"
   ]
  },
  {
   "cell_type": "code",
   "execution_count": 5,
   "metadata": {},
   "outputs": [
    {
     "name": "stdout",
     "output_type": "stream",
     "text": [
      "PyTorch version: 2.2.1+cu121\n",
      "CUDA version: 12.1\n"
     ]
    }
   ],
   "source": [
    "import torch\n",
    "\n",
    "print(\"PyTorch version:\", torch.__version__)\n",
    "import torch\n",
    "\n",
    "print(\"CUDA version:\", torch.version.cuda)\n"
   ]
  },
  {
   "cell_type": "code",
   "execution_count": 2,
   "metadata": {},
   "outputs": [],
   "source": [
    "import os\n",
    "\n",
    "judgement_folder = os.path.join(os.getcwd(), \"judgement\")\n",
    "summary_folder = os.path.join(os.getcwd(), \"summary\")\n",
    "\n",
    "judgements = []\n",
    "summaries = []\n",
    "\n",
    "for filename in os.listdir(judgement_folder):\n",
    "    with open(os.path.join(judgement_folder, filename), 'r', encoding='utf-8') as file:\n",
    "        judgements.append(file.read())\n",
    "    \n",
    "    with open(os.path.join(summary_folder, filename), 'r', encoding='utf-8') as file:\n",
    "        summaries.append(file.read())\n"
   ]
  },
  {
   "cell_type": "code",
   "execution_count": 3,
   "metadata": {},
   "outputs": [
    {
     "name": "stdout",
     "output_type": "stream",
     "text": [
      "Defaulting to user installation because normal site-packages is not writeable\n",
      "Requirement already satisfied: transformers in /home/iiitd/.local/lib/python3.10/site-packages (4.38.2)\n",
      "Requirement already satisfied: packaging>=20.0 in /home/iiitd/.local/lib/python3.10/site-packages (from transformers) (23.2)\n",
      "Requirement already satisfied: huggingface-hub<1.0,>=0.19.3 in /home/iiitd/.local/lib/python3.10/site-packages (from transformers) (0.21.4)\n",
      "Requirement already satisfied: filelock in /home/iiitd/.local/lib/python3.10/site-packages (from transformers) (3.13.1)\n",
      "Requirement already satisfied: regex!=2019.12.17 in /home/iiitd/.local/lib/python3.10/site-packages (from transformers) (2023.12.25)\n",
      "Requirement already satisfied: safetensors>=0.4.1 in /home/iiitd/.local/lib/python3.10/site-packages (from transformers) (0.4.2)\n",
      "Requirement already satisfied: numpy>=1.17 in /home/iiitd/.local/lib/python3.10/site-packages (from transformers) (1.26.2)\n",
      "Requirement already satisfied: tokenizers<0.19,>=0.14 in /home/iiitd/.local/lib/python3.10/site-packages (from transformers) (0.15.2)\n",
      "Requirement already satisfied: requests in /usr/lib/python3/dist-packages (from transformers) (2.25.1)\n",
      "Requirement already satisfied: pyyaml>=5.1 in /usr/lib/python3/dist-packages (from transformers) (5.4.1)\n",
      "Requirement already satisfied: tqdm>=4.27 in /home/iiitd/.local/lib/python3.10/site-packages (from transformers) (4.66.2)\n",
      "Requirement already satisfied: typing-extensions>=3.7.4.3 in /home/iiitd/.local/lib/python3.10/site-packages (from huggingface-hub<1.0,>=0.19.3->transformers) (4.8.0)\n",
      "Requirement already satisfied: fsspec>=2023.5.0 in /home/iiitd/.local/lib/python3.10/site-packages (from huggingface-hub<1.0,>=0.19.3->transformers) (2024.2.0)\n"
     ]
    }
   ],
   "source": [
    "!pip install transformers"
   ]
  },
  {
   "cell_type": "code",
   "execution_count": 4,
   "metadata": {},
   "outputs": [
    {
     "name": "stdout",
     "output_type": "stream",
     "text": [
      "Defaulting to user installation because normal site-packages is not writeable\n",
      "Requirement already satisfied: sentencepiece in /home/iiitd/.local/lib/python3.10/site-packages (0.2.0)\n",
      "Note: you may need to restart the kernel to use updated packages.\n"
     ]
    }
   ],
   "source": [
    "pip install sentencepiece"
   ]
  },
  {
   "cell_type": "code",
   "execution_count": 5,
   "metadata": {},
   "outputs": [
    {
     "name": "stderr",
     "output_type": "stream",
     "text": [
      "/home/iiitd/.local/lib/python3.10/site-packages/tqdm/auto.py:21: TqdmWarning: IProgress not found. Please update jupyter and ipywidgets. See https://ipywidgets.readthedocs.io/en/stable/user_install.html\n",
      "  from .autonotebook import tqdm as notebook_tqdm\n",
      "You are using the default legacy behaviour of the <class 'transformers.models.t5.tokenization_t5.T5Tokenizer'>. This is expected, and simply means that the `legacy` (previous) behavior will be used so nothing changes for you. If you want to use the new behaviour, set `legacy=False`. This should only be set if you understand what it means, and thoroughly read the reason why this was added as explained in https://github.com/huggingface/transformers/pull/24565\n",
      "Special tokens have been added in the vocabulary, make sure the associated word embeddings are fine-tuned or trained.\n"
     ]
    }
   ],
   "source": [
    "from transformers import T5ForConditionalGeneration, T5Tokenizer\n",
    "from torch.utils.data import DataLoader, Dataset\n",
    "from torch.optim import Adam\n",
    "\n",
    "class LegalDataset(Dataset):\n",
    "    def __init__(self, judgements, summaries, tokenizer, max_length=512):\n",
    "        self.judgements = judgements\n",
    "        self.summaries = summaries\n",
    "        self.tokenizer = tokenizer\n",
    "        self.max_length = max_length\n",
    "\n",
    "    def __len__(self):\n",
    "        return len(self.judgements)\n",
    "\n",
    "    def __getitem__(self, idx):\n",
    "        input_text = self.judgements[idx]\n",
    "        target_text = self.summaries[idx]\n",
    "\n",
    "        encoding = self.tokenizer(input_text, max_length=self.max_length, return_tensors='pt', truncation=True, padding='max_length')\n",
    "        labels = self.tokenizer(target_text, max_length=self.max_length, return_tensors='pt', truncation=True, padding='max_length').input_ids\n",
    "\n",
    "        return {\n",
    "            'input_ids': encoding['input_ids'].squeeze(),\n",
    "            'attention_mask': encoding['attention_mask'].squeeze(),\n",
    "            'labels': labels.squeeze()\n",
    "        }\n",
    "\n",
    "tokenizer = T5Tokenizer.from_pretrained('t5-small')\n",
    "model = T5ForConditionalGeneration.from_pretrained('t5-small')\n",
    "\n",
    "optimizer = Adam(model.parameters(), lr=1e-4)\n",
    "\n",
    "\n",
    "dataset = LegalDataset(judgements, summaries, tokenizer)\n",
    "dataloader = DataLoader(dataset, batch_size=2, shuffle=True)\n",
    "\n",
    "\n",
    "for epoch in range(3):\n",
    "    for batch in dataloader:\n",
    "        input_ids = batch['input_ids']\n",
    "        attention_mask = batch['attention_mask']\n",
    "        labels = batch['labels']\n",
    "\n",
    "        outputs = model(input_ids=input_ids, attention_mask=attention_mask, labels=labels)\n",
    "        loss = outputs.loss\n",
    "        loss.backward()\n",
    "        optimizer.step()\n",
    "        optimizer.zero_grad()\n",
    "\n",
    "\n",
    "model.save_pretrained('fine_tuned_legal_summarizer')\n"
   ]
  },
  {
   "cell_type": "code",
   "execution_count": 3,
   "metadata": {},
   "outputs": [
    {
     "ename": "NameError",
     "evalue": "name 'input_encoding' is not defined",
     "output_type": "error",
     "traceback": [
      "\u001b[0;31m---------------------------------------------------------------------------\u001b[0m",
      "\u001b[0;31mNameError\u001b[0m                                 Traceback (most recent call last)",
      "Cell \u001b[0;32mIn[3], line 1\u001b[0m\n\u001b[0;32m----> 1\u001b[0m \u001b[38;5;28mprint\u001b[39m(\u001b[38;5;124m\"\u001b[39m\u001b[38;5;124mInput Encoding:\u001b[39m\u001b[38;5;124m\"\u001b[39m, \u001b[43minput_encoding\u001b[49m)\n",
      "\u001b[0;31mNameError\u001b[0m: name 'input_encoding' is not defined"
     ]
    }
   ],
   "source": [
    "print(\"Input Encoding:\", input_encoding)\n"
   ]
  },
  {
   "cell_type": "code",
   "execution_count": 4,
   "metadata": {},
   "outputs": [
    {
     "ename": "NameError",
     "evalue": "name 'fine_tuned_legal_summarizer' is not defined",
     "output_type": "error",
     "traceback": [
      "\u001b[0;31m---------------------------------------------------------------------------\u001b[0m",
      "\u001b[0;31mNameError\u001b[0m                                 Traceback (most recent call last)",
      "Cell \u001b[0;32mIn[4], line 1\u001b[0m\n\u001b[0;32m----> 1\u001b[0m summary_ids \u001b[38;5;241m=\u001b[39m \u001b[43mfine_tuned_legal_summarizer\u001b[49m\u001b[38;5;241m.\u001b[39mgenerate(\u001b[38;5;241m*\u001b[39m\u001b[38;5;241m*\u001b[39minput_encoding, max_length\u001b[38;5;241m=\u001b[39m\u001b[38;5;241m150\u001b[39m, use_cache\u001b[38;5;241m=\u001b[39m\u001b[38;5;28;01mFalse\u001b[39;00m)\n",
      "\u001b[0;31mNameError\u001b[0m: name 'fine_tuned_legal_summarizer' is not defined"
     ]
    }
   ],
   "source": [
    "summary_ids = fine_tuned_legal_summarizer.generate(**input_encoding, max_length=150, use_cache=False)\n"
   ]
  },
  {
   "cell_type": "code",
   "execution_count": 7,
   "metadata": {},
   "outputs": [
    {
     "name": "stderr",
     "output_type": "stream",
     "text": [
      "Special tokens have been added in the vocabulary, make sure the associated word embeddings are fine-tuned or trained.\n"
     ]
    },
    {
     "name": "stdout",
     "output_type": "stream",
     "text": [
      "Generated Summary: The appellant was the tenant of a flat on the second floor of a building in Bombay. The tenancy was a monthly one, the rent being Rs. 215. The appellant wanted to go to the United Kingdom for treatment of his failing eye sight and he got into touch with the complainant through one Sayed for the purpose of making necessary ar rangements about the flat occupied by him in view of his intended departure. The prosecution case was that the appellant demanded a sum of Rs. 30,000 which was later on reduced to Rs. 29,500 as consideration for putting the complainant in vacant possession of the flat and an additional amount of Rs. 2,000 for the furniture and\n"
     ]
    }
   ],
   "source": [
    "from transformers import T5ForConditionalGeneration, T5Tokenizer\n",
    "\n",
    "model_directory_path = 'fine_tuned_legal_summarizer'\n",
    "\n",
    "original_model = T5ForConditionalGeneration.from_pretrained('t5-small')\n",
    "original_tokenizer = T5Tokenizer.from_pretrained('t5-small')\n",
    "\n",
    "fine_tuned_model = T5ForConditionalGeneration.from_pretrained('fine_tuned_legal_summarizer')\n",
    "fine_tuned_model.save_pretrained(model_directory_path)\n",
    "original_tokenizer.save_pretrained(model_directory_path)\n",
    "\n",
    "\n",
    "text_file_path = '1.txt'\n",
    "\n",
    "\n",
    "with open(text_file_path, 'r', encoding='utf-8') as file:\n",
    "    input_text = file.read()\n",
    "\n",
    "input_encoding = original_tokenizer(input_text, return_tensors='pt', max_length=512, truncation=True, padding=True)\n",
    "summary_ids = fine_tuned_model.generate(**input_encoding, max_length=150, use_cache=False)\n",
    "\n",
    "generated_summary = original_tokenizer.decode(summary_ids[0], skip_special_tokens=True)\n",
    "\n",
    "\n",
    "print(\"Generated Summary:\", generated_summary)\n"
   ]
  },
  {
   "cell_type": "code",
   "execution_count": 8,
   "metadata": {},
   "outputs": [
    {
     "name": "stdout",
     "output_type": "stream",
     "text": [
      "Generated summary saved to generated_summary.txt\n"
     ]
    }
   ],
   "source": [
    "output_file_path = 'generated_summary.txt'\n",
    "with open(output_file_path, 'w', encoding='utf-8') as output_file:\n",
    "    output_file.write(generated_summary)\n",
    "\n",
    "print(f\"Generated summary saved to {output_file_path}\")"
   ]
  },
  {
   "cell_type": "code",
   "execution_count": 10,
   "metadata": {},
   "outputs": [
    {
     "name": "stderr",
     "output_type": "stream",
     "text": [
      "Special tokens have been added in the vocabulary, make sure the associated word embeddings are fine-tuned or trained.\n"
     ]
    },
    {
     "name": "stdout",
     "output_type": "stream",
     "text": [
      "Generated Summary for 266.txt: The petitioner company was the managing director of another company, and the petitioner was the managing director of the company. The Central Government made a reference under section 5(1) of the Act before the Investigation Commission appointed under Act XXX of 1947. The Commission made a report to this effect to the Central Government under section 5(4) of the Act requesting that the case of the petitioner along with the cases of the petitioner and other members of his family may be referred to the Commission for investigation. The Central Government referred these cases to the Commission under section 5(4) of the Act to the Commission for investigation. The petitioner contended that the Central Government had no jurisdiction to examine the case of the petitioner along\n",
      "Generated summary saved to LLM_generated_summary/266.txt\n",
      "Generated Summary for 4568.txt: The Central Health Service was formed more than two decades ago and was intended to replace the Indian Medical Service, but the recruitment rules were not framed till 1963. The Central Health Service Rules, 1963, came into force on May 5, 1963. The Rules, which were framed, provided for the constitution of the Central Health Service. Under r.4 the Service was divided into two categories viz. Class I and Class II. The rules envisaged categorization of personnel manning the service into five different categories viz. Categories 'A'to 'E '. Rule 5 provided for the authorized permanent and temporary strength of the Service. Rule 5 provided for the future maintenance of the Service. The Rules\n",
      "Generated summary saved to LLM_generated_summary/4568.txt\n",
      "Generated Summary for 6276.txt: The Gujarat Minor Mineral Rules 1966, which were amended by the Gujarat Minor Mineral Rules 1966, were enacted by the Gujarat Government under section 15 of the, and the Act, amended the Minor Mineral Rules 1966, with effect from 1 7 1985. The Gujarat Government issued a notification on June 26, 1985 in exercise of its powers conferred by section 15 of the, on the basis that the holder of a quarry lease or any other mineral concession granted under these rules shall pay royalty in respect of minor minerals, specified in column 2 of the Schedule, and that no royalty shall be charged from Nimbha das of village potters who manufacture upto one lakh bricks per year. The appellants challenged the validity\n",
      "Generated summary saved to LLM_generated_summary/6276.txt\n",
      "Generated Summary for 6622.txt: The appellants/ Petitioners were a registered dealer in the State of Haryana. They purchased certain raw materials in the State without paying tax thereon. The assessees were then liable to pay purchase tax on the raw materials imposed under section 9(1) of the Haryana Sales Tax Act, 1973. The assessees filed writ petitions in this Court in view of a learned single Judge of the High Court having decided the issue against the assessees as early as 25.11.80 in C.W.P. 1227/80. The High Court dismissed the writ petitions. The appellants filed writ petitions in this Court\n",
      "Generated summary saved to LLM_generated_summary/6622.txt\n",
      "Generated Summary for 4782.txt: The deceased was the husband of respondent No. 1 and father of the respondents No. 2 to 5. The respondents filed a suit against the appellant. The suit was dismissed by the Subordinate Judge. The High Court reversed the judgment of the Subordinate Judge dismissing the suit. The appellant contended that the deceased had issued cheques for Rs. 300 and Rs. 220 respectively in favour of the appellant as first premium. The appellant contended that the deceased had issued cheques for Rs. 300 and Rs. 220 respectively in favour of the appellant as first premium. The deceased died on the death of the deceased. The Subordinate Judge dismissed the suit. The appellant contended that the deceased\n",
      "Generated summary saved to LLM_generated_summary/4782.txt\n",
      "Generated Summary for 2649.txt: The appellants had for a long time business relations with a firm styled \"Bhojaji Sobhachand\" carrying on business at Bombay as importers of yam and also as agents and adathias. The firm had for a long time business relations with a firm carrying on business at Bombay. The firm, each with 7/32 share in the profits, was one of the partners of Bhojaji Sobhachand. The firm, one of the partners of Bhojaji Sobhachand, with 16% share in the profit and loss, was the father of the appellants. The appellants\n",
      "Generated summary saved to LLM_generated_summary/2649.txt\n",
      "Generated Summary for 4316.txt: The appellants were members of the Tata Consultant Engineers Union. The appellants were the draftsmen and the administrative staff. The appellants were the draftsmen and the administrative staff. The appellants were the draftsmen and the administrative staff. The Industrial Tribunal made a reference to the dispute under section 10(1)(d) of the Industrial Tribunal Maharashtra for adjudication. The Tribunal remanded the dispute to the State Government under section 10(1)(d) of the Industrial Tribunal Maharashtra. The Tribunal remanded the dispute to the Industrial Tribunal. The Tribunal remanded the dispute to the Tribunal. The Tribunal remanded the\n",
      "Generated summary saved to LLM_generated_summary/4316.txt\n",
      "Generated Summary for 6521.txt: The appellant was a co owner of the property. The co owners had leased out the properties under two lease deeds in favour of the firm. The firm and its partners arc herein compendiously referred to as 'the tenants '. The first lease deed was dated 22.9. 1947 and related to Door No. 2 (Item No.1 in Schedule A to the plaint) and covered an area of 8700 sq. and some building thereon. The rent as per lease deed was Rs.200 per month. The co owners sold the property to the United States. The Co owners were also liable to pay the rent of the property to the\n",
      "Generated summary saved to LLM_generated_summary/6521.txt\n",
      "Generated Summary for 784.txt: The appellant was a contractor of a contractor in the appellant's estate. The appellant filed a writ petition in the High Court for a writ of dismissal. The appellant filed a writ petition in the High Court contending that the appellant was satisfied with the work carried on by the appellant during the preceding year. The High Court dismissed the writ petitions. The appellant contended that the appellant was entitled to obtain a lease from the appellant for a period of 20 years commencing from the termination of the fifth year. The High Court dismissed the petitions. Held, that the appellant was not\n",
      "Generated summary saved to LLM_generated_summary/784.txt\n",
      "Generated Summary for 6245.txt: The State Public Service Commission had undertaken the recruitment to the post of Upper Zila Basic Shiksha Adhikari (Women) District Inspectress of Girls Schools/Associate Regional Inspectress of Girls Schools in Uttar Pradesh Educational Service Junior Scale (Women's Branch). The advertisement inviting applications from eligible candidates was published on May 5, 1985 and a corrigendum was published on June 8, 1985. After the written examina tion was over, on the basis of the results thereof, candidates upto a base limit have to be called to be interviewed. The Public Service Commission decided to cancel the entire recruitment examination and asked for re holding of it. The High Court\n",
      "Generated summary saved to LLM_generated_summary/6245.txt\n",
      "Generated Summary for 3356.txt: The deceased was the village of Munsif (Headman). On April 26, 1971, at about 10.00 P.M. he was sleeping outside his cattle shed in the open space, which is shown in the site plan. The younger brother of the deceased, Pandurangam (PW 4), who is a leper, was also sleeping on the eastern parapet of the sluice of the north Boothagudi channel, which is shown at No. 9. The younger brother of the deceased, Pandurangam (PW 4), who was a leper, was also sleeping on the eastern parapet of the sluice of the north Boothagudi channel. The\n",
      "Generated summary saved to LLM_generated_summary/3356.txt\n",
      "Generated Summary for 660.txt: The appellant filed a suit for possession against respondent No. 1 in respect of the properties mentioned in the Schedule attached to the plaint. The suit was contested by the appellant as the sole executor of the will alleged to have been executed by one Lakshmamma on August 22, 1945. The suit was contested by the appellant in the High Court. The appellant filed a suit for possession against respondent No. 1 in respect of items 3, 4 and 5 and a declaration that the appellant was entitled to dispose of them by a will. The suit was dismissed by the High Court. Held, that the suit was not a suit for possession against respondent No\n",
      "Generated summary saved to LLM_generated_summary/660.txt\n",
      "Generated Summary for 1181.txt: The appellants were granted quasi permanent allotment of 24 standard acres and 15 3/4 units in the village of Raikot in Ludhiana District in 1949. Their father, Sardar Nand Singh, who was 42 330 found entitled to quasi permanent allotment of 40 standard acres and 5 1/4 units of land was given quasi permanent allotment in another village named Humbran in the same district. Nand Singh, therefore, made an application for consolidation of his lands with those of the appellants in the village Raikot on the ground that no land was available in the village Raikot. The Assistant Custodian rejected the application on the ground that no land was available in the village\n",
      "Generated summary saved to LLM_generated_summary/1181.txt\n",
      "Generated Summary for 78.txt: The appellant was the tenant of a flat on the second floor of a building in Bombay. The tenancy was a monthly one, the rent being Rs. 215. The appellant wanted to go to the United Kingdom for treatment of his failing eye sight and he got into touch with the complainant through one Sayed for the purpose of making necessary ar rangements about the flat occupied by him in view of his intended departure. The prosecution case was that the appellant demanded a sum of Rs. 30,000 which was later on reduced to Rs. 29,500 as consideration for putting the complainant in vacant possession of the flat and an additional amount of Rs. 2,000 for the furniture and\n",
      "Generated summary saved to LLM_generated_summary/78.txt\n",
      "Generated Summary for 5888.txt: The appellant was given a shop of Beni Country liquor. The appellant was given a shop of Beni Country liquor. The appellant was given a shop of Beni Country liquor. The appellant was given a shop of Beni Country liquor. The appellant was given a shop of Beni Country liquor. The appellant filed a writ petition in the High Court challenging the order of the Collector. The Collector passed an order on 25.3.88 which was produced in verbatim below. The appellant filed a writ petition in the High Court challenging the order of the Collector. The High Court allowed the appeal. Allowing the appeal, this Court,\n",
      "Generated summary saved to LLM_generated_summary/5888.txt\n",
      "Generated Summary for 690.txt: The appellant assessee was a public limited company incorporated in the State of Cochin with branches in that State as well as in what was British India and in Travancore State. The Income tax Officer determined its assessable income to be Rs. 90,947. The assessee filed its income tax returns showing an income of Rs. 11,872 for the assessment year 1948 49. The Income tax Officer determined the assessable income to be Rs. 90,947. The assessee filed a return showing an income of Rs. 11,872 for the assessment year 1948 49. The Income tax Officer held that the assessee was not entitled to the benefit of section 32(1) and the first pro\n",
      "Generated summary saved to LLM_generated_summary/690.txt\n",
      "Generated Summary for 2392.txt: The appellants were convicted of contempt of court and sentencing each of them to pay a fine of Rs. 1,000/ and further order that in case of default they shall undergo simple imprisonment for two weeks. The High Court held that the appellants had disobeyed an order of stay passed by it staying proceedings pending before the Nyaya Panchayat, Jokha Khas, District Deoria. The case was adjourned to December 25, 1963. On October 11, 1963, Mahabir, accused, made an application under section 85 of the U.P. Panchayat Raj Act, 1947, to transfer the proceedings on the ground that the complainant was father\n",
      "Generated summary saved to LLM_generated_summary/2392.txt\n",
      "Generated Summary for 4071.txt: The appellant Corporation issued a preliminary electoral roll under Rule 4(1) of the Madhya Pradesh Municipal Corporation (Preparation, Revision and Publication of Electoral Rolls and Selection of Councillors) Rules, 1963 promulgated under the Act by the State Government and issued a public notice under Rule 4(1) of the Rules calling upon persons whose names had not been included in the electoral roll and who claimed to be included in the said electoral roll to submit their claims and/or objections within 20 days from the date of publication of the said notice before the Deputy Collector who had been authorised to pass orders on such orders. The Collector of Raipur issued a notification under Rule 4(1)\n",
      "Generated summary saved to LLM_generated_summary/4071.txt\n",
      "Generated Summary for 1195.txt: The appellants were adjoining colliery owners. The plaintiffs and the defendants were adjoining colliery owners. The plaintiffs'land lies immediately to the south of the defendants'land. The plaintiffs and the defendant were adjoining colliery owners. The plaintiffs'land lies immediately to the south of the defendants'land. The plaintiffs'land lies immediately to the south of the defendants'land. The plaintiffs'land lies immediately to the south of the defendants'land. The plaintiffs'son, Raja of Jharia, granted mukarrari lease of the coal and coal mining rights in 300 bighas of\n",
      "Generated summary saved to LLM_generated_summary/1195.txt\n",
      "Generated Summary for 5248.txt: The assessee, who was a member of the Wealth Tax Authority, had maintained an account in the books of the assessee. On 1st January, 1957, the account showed a credit of Rs. 1,50,740. On that day, the assessee had addressed a letter to the company stating that he had decided to gift away for the purpose of acquiring wealth. The assessee filed a writ petition in the High Court challenging the order of the High Court. The appellant contended that the assessee did not make valid gifts aggregating Rs. 1,50,000 in favour of his sons and grand sons by his letter dated 1.1\n",
      "Generated summary saved to LLM_generated_summary/5248.txt\n",
      "Generated Summary for 5266.txt: The appellants were the holder of the land. The appellants were the holder of the land. The appellants were the holder of the land. The appellants were the holder of the land. The appellants were the holder of the land. The appellants were the holder of the land. The appellants were the holder of the land. The appellants were the holder of the land. The appellants were the holder of the land. The appellants filed a writ petition in the High Court. The High Court dismissed the petition. The appellants contended that the appellants were not holder of the\n",
      "Generated summary saved to LLM_generated_summary/5266.txt\n",
      "Generated Summary for 3602.txt: The petitioner was given in the final integration list a position to which he objected. He was a respondent who had not appeared before the High Court. The High Court held that the case now before us is governed by what was held by this Court in the case of the respondent. The petitioner's date of birth was given as 28th June, 1915. The petitioner's writ petition was premature as the final list of officers on an integrated seniority list was to be prepared after hearing objections. The High Court held that the case now before us is also governed by what was held by this Court in Shankariah's case with reference\n",
      "Generated summary saved to LLM_generated_summary/3602.txt\n",
      "Generated Summary for 4938.txt: The appellant was a dealer in gold trading premises. The appellant was a dealer in gold trading premises. The appellant was a dealer in gold trading premises. The appellant was a dealer in gold trading premises. The appellant was a dealer in gold trading premises. The appellant was a dealer in gold trading premises. The appellant was a dealer in gold trading premises. The appellant was a dealer in gold trading premises. The appellant was a dealer in gold trading premises. The appellant was a dealer of gold. The High Court dismissed the aforesaid provision on the ground that it suffers from the vice of excessive delegation of legislative power inas\n",
      "Generated summary saved to LLM_generated_summary/4938.txt\n",
      "Generated Summary for 3844.txt: The respondent filed a special civil suit for partition and separate possession of a 7/24th share in two houses, a land, two shops. If a partition was to take place during Khandappa's lifetime between himself and his two sons, the plaintiff would have got 1/4th share in the joint family properties, the other three getting 1/4th share each. The plaintiff and her five children each having a 1/24th share therein. The plaintiff claimed a 7/24th share in the joint family properties. The plaintiff's wife died on June 27, 1960. The plaintiff contended that the suit properties did not belong to the joint family, and that the suit properties did not\n",
      "Generated summary saved to LLM_generated_summary/3844.txt\n",
      "Generated Summary for 1378.txt: The appellant was detained at the Police Station, Ekdil, and was then put up in the lock up. The Sub Inspector took his thumb impression forcibly on three papers, but did not tell him the reason. The appellant adduced no evidence in support of his statement. The High Court, in appeal, confirmed his conviction and sentence of death under section 302, I.P.C., by the Session Judge. The appellant contended that the evidence led by the prosecution consisted of evidence led by the prosecution was false and that the appellant was falsely accused of the offence. The High Court dismissed the appeal and convicted the appellant under section 302 I\n",
      "Generated summary saved to LLM_generated_summary/1378.txt\n",
      "Generated Summary for 5471.txt: The petitioner filed a petition for special leave against the Writ Petitioner's order dated 9.9.1987 of the Bombay High Court. The petitioner filed a petition for special leave challenging the Writ Petition in the High Court. The High Court held that the term 'officer or employee'occurring in sub section (1) of section 630 of the Act refers only to the existing officers and employees of a company. The High Court held that it refers to the existing officers and employees of a company. The petitioner filed a petition for special leave against the Writ Petition. The petitioner filed a petition for special leave petition in the High Court.\n",
      "Generated summary saved to LLM_generated_summary/5471.txt\n",
      "Generated Summary for 1531.txt: The appellant was a solicitor in a firm of solicitors. The firm kept its accounts on cash basis. For the assessment years 1950 51 to 1954 55 the following amounts were received : Rs. 900,000, Rs. 900,000, Rs. 900,000, Rs. 900,000, Rs. 900,000, Rs. 900,000, Rs. 900,000, Rs. 900,000, Rs. 900,000, Rs. 900,000, Rs. 900/. The appellant's appeal was dismissed by the High Court. Held, that the appellant was not liable to pay the sum of Rs.\n",
      "Generated summary saved to LLM_generated_summary/1531.txt\n",
      "Generated Summary for 6852.txt: The petitioners challenged the validity of section 5 of the Poisons Act, 1904, by a Notification dated 7.8.1973 amended the Delhi Poisons Rules, 1926, by a notification under the Act or the rules made under the Act. The petitioners contended that the section gave an unguided, unchanelised and arbitrary power to the State Government to include any substance as poison for the purpose of restriction to be imposed on the posses sion for sale and sale of the same. The petitioners contended that the Act was a Central enactment and was intended to control over the traffic in poisons. The petitioners contended that the Act\n",
      "Generated summary saved to LLM_generated_summary/6852.txt\n",
      "Generated Summary for 2248.txt: The appellant was deemed to be a Panchayat under the Bombay Village Panchayat Act, 1958. The Panchayat passed resolution No. 2 with a view to levy octroi duty. The resolution, after reciting the need for levying octroi duty, concluded that it passed the resolution to levy minimum octroi tax on the goods coming within its local limits as per the Schedule No. 1 of the Rules. The appellant's petition was dismissed by the High Court. The appellant's appeal to the High Court. The High Court held that the resolution\n",
      "Generated summary saved to LLM_generated_summary/2248.txt\n",
      "Generated Summary for 4451.txt: The plaintiffs filed a suit for declaration and possession of the property in dispute claiming that the property in dispute belonged to the Math Sauna or the Mahadeo Ji installed in the Math Sauna temple and that Mahant Sadashiva Yati was in possession as Mahant and Sarbarakar. The plaintiffs contested the suit by the first defendant, Kedar Nath Chaubey, also referred to as Uma Shanker Yati. The plaintiffs alleged that Mahant Shivshanker Yati owned personal properties which included the properties in village Amauli, that he was the chela of Mahant Shivshanker Yati and the Ama\n",
      "Generated summary saved to LLM_generated_summary/4451.txt\n",
      "Generated Summary for 4917.txt: The petitioners were appoint ed by the State Government for a writ petition under article 32 of the Constitution of India. The petitioners filed writ petitions in this Court challenging the order of the State Government of Andhra Pradesh stating that it had decided to reduce the age of superannuation of all Government employees, other than in the last Grade Service, from 58 years. The petitioners contended that the order of the State Government was not a'seventh Grade Service'and that the petitioners were entitled to a'superannuation '. The petitioners contended that the order of the Government was\n",
      "Generated summary saved to LLM_generated_summary/4917.txt\n",
      "Generated Summary for 1974.txt: The assessee was a Hindu undivided family headed by one Sri Trivikram Narain Singh, a descendant of one Sri Babu Ausan Singh, the founder and owner of the ausanganj State in the district of Benaras. By a Treaty between the East India Company Nawab Asfuddaula in or about the year 1775, the province of Benaras was ceded to the British Government. The British Government granted a sanad of Raj to Raja Chet Singh who in turn gave the Jagir of Parganas Seyedpore and Bhittery in perpetuity to Babu Ausan Singh. The\n",
      "Generated summary saved to LLM_generated_summary/1974.txt\n",
      "Generated Summary for 6778.txt: The appellant was a public servant within the meaning of section 2 of the Prevention of Corruption Act, 1947. The respondent filed a writ petition in the High Court challenging the order of the High Court. The High Court dismissed the petition. The appellant contended that the definition of a public servant was very wide enough to include Judges of the Supreme Court as well as Judges of the High Court. The High Court held that the definition of a public servant was very wide enough to include Judges of the Supreme Court as well as Judges of the High Court. The High Court held that the words \"Third Every Judge including any person empowered by law to discharge, whether by himself or\n",
      "Generated summary saved to LLM_generated_summary/6778.txt\n",
      "Generated Summary for 1329.txt: The respondents, a registered firm registered under the Indian Partnership Act, were registered dealers under section 11 of the Bombay Sales Tax Act. In their return of turnover for the period from April 1, 1954 to March 31, 1955, they claimed exemption from Sales Tax in respect of sales of cotton of the total value of Rs. 68,493 2 6 and sales of castor oil of the total value of Rs. 6,47,509 1 6 on the ground that these sales were oil contracts under which they continued to be the owners of the goods till the goods had crossed the customs barrier and thus entered the export stream and so no tax was realisable on these sales in view of the provisions of article 286 (1)(\n",
      "Generated summary saved to LLM_generated_summary/1329.txt\n",
      "Generated Summary for 1789.txt: The respondent Company was incorporated in January, 1946 as a Private Limited Company to take over the business of the partnership firm of the Shaw Wallace & Co., which had been doing business in India for about 60 years. In July, 1947 the Private Limited Company was converted into a Public Limited Company. The general practice of the Company was to retire its employees at the age of 55 though in certain cases the Company in its discretion permitted an employee to continue beyond that age. Shortly after this the Company's employees raised a dispute regarding their retirement age. Shortly after this, the Company's employees raised a dispute regarding their retirement age. The Company resisted the workmen's claim\n",
      "Generated summary saved to LLM_generated_summary/1789.txt\n",
      "Generated Summary for 6118.txt: The petitioners are carpenters 1st and 2nd grade employees at the Wood Working Centre of the Himachal Pradesh State Handicrafts Corporation (the \"Corporation\"). They are called as daily rated employees. They demand payment in terms paid to their counterparts in regular services. They want the same pay of the regular employees as carpenters or in the alternative, the minimum wages prescribed by the Deputy Commissioner for like categories of workmen. They are being paid the same wages as are payable to carpenters, painters and carpenters. The petitioners are being paid the same wages as are payable to carpenters, painters and carpenters. They are given bonus under\n",
      "Generated summary saved to LLM_generated_summary/6118.txt\n",
      "Generated Summary for 380.txt: The appellants were displaced persons and the respondent entered into an agreement with them, Exhibit A, of a composite character consisting of three matters: (1) a demise under which the mills and the factory in question were leased to the appellants for a period of five years on the terms and conditions set out therein, (2) a sale of the stock of raw materials, unsold finished goods, spare parts, cars, trucks and other movables which were in the mills and the factory. The appellants were displaced persons and having migrated to Pakistan, these properties were declared as evacuee property and under section 8(1) of the Act, they\n",
      "Generated summary saved to LLM_generated_summary/380.txt\n",
      "Generated Summary for 6668.txt: Subbamma adopted one K.V. Seshiah. Through the first wife he had a son born to him by name and through the second another son by name Anand Babu. In February, 1985, during the pendency of the special leave petition, the adoptive mother died. The adoptive mother led claim to the entire property of Subbamma exclusively to each of them under two different wills said to be by subbamma and each contended that the other will was a forged one. The compromise was brought about on 21.8.1987 between the father and his two sons and the same was filed in this Court. The terms of the compromise\n",
      "Generated summary saved to LLM_generated_summary/6668.txt\n",
      "Generated Summary for 1778.txt: The appellant company, who was a workman of the appellant company, filed a suit for a remuneration under an award in the industrial dispute between the employer and his employees. The respondent filed a suit for remuneration under an award. The suit was dismissed by the High Court. The appellant contended that the appellant was not entitled to pay wages fixed by an award in an industrial dispute. The High Court held that the definition of wages was not applicable to the definition of wages. The appellant contended before the payment of wages authority that the refusal of the appellant to pay to them wages at the rate awarded amounted to an illegal deduction from their wages.\n",
      "Generated summary saved to LLM_generated_summary/1778.txt\n",
      "Generated Summary for 3442.txt: The appellant was a private Devasthan and a deity of the deity of the deity of the deity of the deity of the deity of the deity of the deity of the deity of the deity of the deity of the deity of the deity of the deity of the deity of the deity of the deity of the deity of the deity of the deity of the deity of the deity of the deity of the deity of the deity was Shri Vithal Rukhamai Sansthan of Amalner, Bombay. The appellant filed an application under section 18 of the Bombay Public Trusts Act,\n",
      "Generated summary saved to LLM_generated_summary/3442.txt\n",
      "Generated Summary for 5597.txt: The appellants were assessed for house tax on the disputed property. The accommodation was for the first time assessed for house tax by the Nagar Palika Ghaziabad with effect from October 1, 1976. The suit was filed for eviction after termination of tenancy before the trial court and objection was raised that as the shop and the basement were separate let out the tenancy could not be terminated by a single notice that would be invalid. The trial court therefore dismissed the suit. The High Court set aside the conclusion of the High Court. Dismissing the appeal, the appellant contended that the provisions of the U.P. Urban Buildings (Regulation of Letting, Rent and E\n",
      "Generated summary saved to LLM_generated_summary/5597.txt\n",
      "Generated Summary for 3531.txt: The appellants were working in the industrial industry for a period of three years. The appellants were working in the industry for a period of three years. The appellants were working in the industry for a period of three years. The appellants filed a writ petition in the State of Gujarat for a writ of res pondering to the award of the Industrial Tribunal. The Tribunal re spondents were working in the industry for a period of three years. The workmen were aggrieved by the first proviso to section 49 of the, and the appellants filed a writ petition\n",
      "Generated summary saved to LLM_generated_summary/3531.txt\n",
      "Generated Summary for 496.txt: The appellants were convicted and each was sentenced to death under section 302 of the Indian Penal Code. The appellants were convicted and sentenced to death. The appellants were referred to the High Court for confirmation of the case. The appellants were referred to the High Court by a third Judge. The High Court held that the sentences of death should be maintained and commuted to transportation for life. The appellants contended that the sentences of death should be maintained and commuted to transportation for life. The first appellants were convicted and each was sentenced to death under section 302 of the Indian Penal Code. The appellants contended that the sentences\n",
      "Generated summary saved to LLM_generated_summary/496.txt\n",
      "Generated Summary for 6728.txt: The petitioners were the owners of certain lands which were acquired by the respondents under the provisions of Sections 17 and 19 of the Bangalore Development Act, 1976. Under the provisions of Section 36 of the Land Acquisition Act, 1894, the Land Acquisition Act, 1894, was enacted by the Land Acquisition Act, 1894. The Collector made his award within two years from the date of publication of the declaration and if no award was made within that period, the entire acquisition proceedings had lapsed. The petitioners challenged the said award by special leave. The High Court held that the entire acquisition proceedings had lapsed. The petitioners contended that the entire acquisition proceedings had lapsed. The petitioners con\n",
      "Generated summary saved to LLM_generated_summary/6728.txt\n",
      "Generated Summary for 2304.txt: The Orissa Superior Judicial Service (Senior Branch) consisted of eight district and sessions judges, two additional district and sessions judges, secretary to government in law department, superintendent and legal remembrancer, law department, deputy secretary to government in the law department, member administrative tribunal and the Registrar of the Orissa High Court, in all 15 in number. The power to appoint the secretaries to the government is that of the Governor. Under the Government of India Act 1935, the power to appoint the secretaries to the government is that of the Governor. The power to appoint the secretaries to the government is that of the Governor. The power to\n",
      "Generated summary saved to LLM_generated_summary/2304.txt\n",
      "Generated Summary for 2727.txt: The appellant was elected as a trustee by the Sengunatha Mudaliars of Manjakollai village at a meeting held on June 27, 1957. The appellant was elected as a trustee by the Sengunatha Mudaliars of Manjakollai village at a meeting held on June 27, 1957. The appellant's temple was rounded two hundred years ago by the members of his community and since then the management of the temple was always vested in the community of the Sengunatha Mudaliars. The appellant's case was that the trusteeship of the Kumaran Koil in Manjakollai\n",
      "Generated summary saved to LLM_generated_summary/2727.txt\n",
      "Generated Summary for 2122.txt: The appellant Company preferred a writ petition under article 226 of the Constitution in the Punjab High Court for the issue of a writ of mandamus or other appropriate writ, direction or order quashing the order of the Board dated May 19, 1965. The Managing Director, Mr. Balasubramanian joined in the petition as petitioner No. 2. The writ petition was directed against 7 respondents, the first of which was the first of which was the first of the first of the appellant. The appellant Company preferred a writ petition under article 226 of the Constitution. The writ petition was directed against 7 respondents.\n",
      "Generated summary saved to LLM_generated_summary/2122.txt\n",
      "Generated Summary for 2065.txt: The appellants in a suit against the respondents claimed a declaration about their title to the properties in the suit and a permanent injunction restraining respondents 1 to 3 who claimed to be the trustees of an alleged Pachai Kandai Udayavar Temple from interfering with their possession of the same. The respondents claimed to be the trustees of the same. The High Court held that the respondents were not entitled to the properties in the suit. The appellants contended that the respondents were not entitled to the properties in the suit. The High Court held that the respondents were entitled to the properties in the suit. The appellants contended that the properties were alienated\n",
      "Generated summary saved to LLM_generated_summary/2065.txt\n",
      "Generated Summary for 5364.txt: The appellants were carrying on life insurance business in India. Prior to January 1955 there were more than 200 insur ers carrying on life insurance business in India. Prior to January 1955 there were more than 200 insur ers carrying on life insurance business in India. As it came to the notice of the Government that the Indian life insurers, with a few exceptions, were virtually controlled by few individuals who were utilising the funds of those companies. The respondent Corporation contended that the respondent Corporation was not a person a person who was employed by the company and that the appellants were not entitled to the benefit of the company. The respondent Corporation contended that the appellants were not\n",
      "Generated summary saved to LLM_generated_summary/5364.txt\n",
      "Generated Summary for 314.txt: The appellant was a Sub Divisional Officer in the Public Works Department, Pepsu. It was part of his duties to disburse the wages to the workmen employed in the works. It was part of his duties to disburse the wages to the workmen employed in the works, and the procedure usually followed was that be drew the amount required from the treasury and paid the same to the workmen against their signatures or thumb impressions in the monthly acquittance roll. The appellant's case was that there was no person of the name of Parma, that the thumb impression found in the acquittance roll was\n",
      "Generated summary saved to LLM_generated_summary/314.txt\n",
      "Generated Summary for 5994.txt: The respondent was a Time Keeper in the Sutlej Link Project, Sundernagar. He was in charge of preparing the pay bills and other bills of the work charg ed employees of the project. The respondent made the entry with ulterior motive to withdraw the pay of the respondent for the month of May 1969 even though Ash ok Kumar was not working in that Division. The 'Second Officer'prepared a 'Second Officer's name and the sign a tures of the issuing officer. The said fictitious identity card was also prepared by the respondent. The said fictitious identity card was also\n",
      "Generated summary saved to LLM_generated_summary/5994.txt\n",
      "Generated Summary for 3924.txt: The appellant was convicted under section 302 Indian Penal Code and sentenced to suffer imprisonment for life. The appellant was acquitted by the Sessions judge of an offence under section 302 Indian Penal Code. The appellant was convicted under section 302 Indian Penal Code and sentenced to suffer imprisonment for life. The acquittal was reversed by the High Court. The appellant was acquitted by the Additional Sessions judge. The appellant was convicted under section 302 Indian Penal Code. The appellant's plea was rejected by the High Court. The appellant's appeal to the High Court was dismissed. The appellant contended\n",
      "Generated summary saved to LLM_generated_summary/3924.txt\n",
      "Generated Summary for 1522.txt: The appellant, a postman attached to the Bulandshahr post office, was tried for offences under section 52 of the Indian Post Office Act, 1898 (VI of 1898) and in two of them also for offences under sections 467 and 471 of the Indian Penal Code. The appellant, who was a postman, was a postman attached to the post office. He was acquitted of all these offences. The State preferred an appeal against his acquittal in these three cases to the High Court but restricted the appeal to the acquittal of the appellant in respect of offences under section 52 of the Indian Post Office Act\n",
      "Generated summary saved to LLM_generated_summary/1522.txt\n",
      "Generated Summary for 6270.txt: The respondent was appointed as the Secretary in the District Soldiers Board in the State of Uttar Pradesh. The said term was extended retrospectively, first upto 20th August, 1982 by an order passed in September, 1981 and it was again extended upto 31st March, 1983 by an order made in February, 1983. The respondent was declared unfit by a Medical Board and was therefore declared unfit by the Government of India. The State of Uttar Pradesh also adopted the same scheme. Pursuant to the said scheme, the State of Uttar Pradesh appointed the respondent as Secretary in the District Soldiers Board in the district of Unnao in the State of Uttar Pradesh. The said term was extended retrospective\n",
      "Generated summary saved to LLM_generated_summary/6270.txt\n",
      "Generated Summary for 1697.txt: The appellant claimed relief under section 25(4) contending that it had transferred its business to a limited company with effect from November 13, 1947 or February 13, 1948, by an instrument executed on February 7, 1948. The claim was rejected by the Income tax Officer and the Appellate Assistant Commissioner and also by the Income tax Appellate Tribunal on appeal to it. The appellant moved the Tribunal to refer a certain question to the High Court under section 66(1) of the Income tax Act, 1922. The Tribunal referred the question to the High Court. The High Court held that the appellant was not entitled to relief under section 25(4). The High Court held that the appellant was not entitled to relief under section 25(4)\n",
      "Generated summary saved to LLM_generated_summary/1697.txt\n",
      "Generated Summary for 2657.txt: The appellant Bank applied for an interim injunction restraining the Bank of India Ltd., the first defendant in the suit from taking any steps in pursuance of a letter of credit opened in favour of the second defendant. The High Court set aside the order of the High Court. The plaintiffs applied for interim injunction restraining the Bank of India Ltd. from taking any steps in pursuance of a letter of credit opened in favour of the second defendant. The High Court observed that an order granting interim injunction is a final order determining the rights of parties within this lit or proceeding, which is independent though ancillary to the suit. The High Court observed that an\n",
      "Generated summary saved to LLM_generated_summary/2657.txt\n",
      "Generated Summary for 5141.txt: The Karnataka State Transport Authority issued permits to the Karnataka State Tourism Development Corporation, one of the 14 permits to the Karnataka State Road Transport Corporation and two permits to the Karnataka State Road Transport Corporation. The State Transport Authority issued permits to the Karnataka State Transport Corporation. The State Transport Authority issued permits to the Karnataka State Road Transport Corporation. The State Transport Authority issued permits to the Karnataka State Road Transport Corporation. The State Transport Authority issued permits to the Karnataka State Transport Corporation. The State Transport Authority issued permits to the Karnataka State Transport Corporation. The Tribunal set aside the grant of the two permits in favour of the Karnat\n",
      "Generated summary saved to LLM_generated_summary/5141.txt\n",
      "Generated Summary for 3210.txt: The Federation of Indian Chambers of Commerce and Industry, New Delhi (Respondent 1) was registered under section 26 of the Delhi Shops and Establishments Act, 1954. The Federation of Indian Chambers of Commerce and Industry, New Delhi (Respondent 1) was a \"commercial establishment\" within the meaning of section 2(5) of the Act. The appellants contended that the Federation of Indian Chambers of Commerce and Industry, New Delhi (Respondent 1) was a \"commercial establishment\" within the meaning of section 2(5) of the Act. The High Court held that the Federation of Indian Chambers of Commerce and Industry, New Delhi (Respondent 1) was a \"commercial establishment\" within\n",
      "Generated summary saved to LLM_generated_summary/3210.txt\n",
      "Generated Summary for 2796.txt: The appellants were tried and convicted under section 395 of the Indian Penal Code and sentenced to 5 years rigorous imprisonment and fine of Rs. 1,000/. The appellants appealed to this Court by special leave. The High Court convicted the appellants on the sole evidence of having in their possession pieces of cloth which were later identified to belong to the traders. The appellants were convicted on the sole evidence of having in their possession pieces of cloth which were later identified to belong to the traders. The High Court and the Court below drew from the conclusion that the accused were guilty of theft of cotton pieces from two carts within the limits of Lingsugar Police Station.\n",
      "Generated summary saved to LLM_generated_summary/2796.txt\n",
      "Generated Summary for 6647.txt: The petitioners in both these writ petitions are partnership firms carrying on business of import of rough diamonds and export of cut and polished diamonds. The Import & Export Policy for the period April, 1978 to March, 1979 made provision for grant of certain import facilities to Export Houses which were registered in accordance with the provisions of the policy. One of the said facilities was grant of an Additional licence in terms of para 176 of the policy for an amount to be calculated at one third the f.o.b. value of exports of select products made by the Export House in the year 1977 78. The petitioners filed writ petitions under Article 226 of the Constitution before\n",
      "Generated summary saved to LLM_generated_summary/6647.txt\n",
      "Generated Summary for 4641.txt: The appellant was a member of the Jammu and Kashmir High Court. The appellant filed a writ petition in the High Court for a writ of acquittal. The High Court held that the appeal was allowed. The appellant was a member of the Jammu and Kashmir High Court. The appellant filed a writ petition in the High Court challenging the order of the High Court. The High Court dismissed the writ petition. The appellant filed a writ petition in the High Court challenging the order of the High Court. The High Court held that the appellant was not a member of the Jammu and\n",
      "Generated summary saved to LLM_generated_summary/4641.txt\n",
      "Generated Summary for 2913.txt: The assessee was having construction contracts under the Railways as well as the Government. The assessee was asked by the Income tax Officer during the income tax assessment proceedings to produce before him its books of account and the other relevant papers. The assessee also produced before him a statement showing various creditors from whom it had borrowed on Hundis during the accounting year in question. The Income tax Officer issued a notice under section 148 of the Income tax Act, 1961. The material portion of the notice reads as follows: \"The notice under section 148 of the Income tax Act, 1961 has escaped assessment within the meaning of section 147 of the Income Tax Act, 1961. The assessee's\n",
      "Generated summary saved to LLM_generated_summary/2913.txt\n",
      "Generated Summary for 2256.txt: The appellant instituted a notice to quit for ejectment of three persons from the property in a parcel of land. The first two persons were described as tenants under the appellant and the third as a person who purported to purchase the structures on the land and the tenancy right therein. The suit was contested only by the third defendant who filed a written statement in September 1948 contending that the suit was bad for non joinder of parties. The suit was decreed by a Munsif of Sealdah Court, Calcutta. The Subordinate Judge dismissed the appeal. The appellant contended that the notice to quit served on the 7th May, 1948 was\n",
      "Generated summary saved to LLM_generated_summary/2256.txt\n",
      "Generated Summary for 5937.txt: The respondent's writ petition for clarification of the judgment of this Court was made clear that the assessable value of the processed fabric would be the value of the grey cloth in the hands of the processor plus the value of the job work done plus manufacturing profit and manufacturing expenses, which may be included in the price at the factory gate or deemed to be the price at the factory gate for the processed fabric. The writ petition was contested by the respondent for clarification of the decision of this Court. The Court, however, held that the processing fabric was sold by the processor. The writ petitioner was a trader who was a trader who was a trader\n",
      "Generated summary saved to LLM_generated_summary/5937.txt\n",
      "Generated Summary for 2035.txt: The appellants were the workmen of the Bombay Port Trust. The appellants were the workmen of the Port Trust. The appellants were employed by the Port Trust. The appellants were the workmen of the Port Trust. The appellants were the workmen of the Port Trust. The appellants were the workmen of the Port Trust. The appellants were the workmen of the Port Trust. The appellants filed a joint application for the appellants. The Tribunal held that the Union was not able to establish that the existing system of work needed any modification. The Tribunal held that the existing system of work was not able to establish that the existing system of\n",
      "Generated summary saved to LLM_generated_summary/2035.txt\n",
      "Generated Summary for 3542.txt: The appellants wrote a letter to the President of the District Bar Association, Bhiwani, to the Prime Minister, Chief Justice of India, Chief Minister of Haryana and the Chief Jus tice of Punjab and Haryana High Court. The letter was signed by 15 members of the Bar belonging to the District Bar Association, Bhiwani. The appellants brought to the notice of the President that Justice D.S. Tewatia of the Punjab and Haryana High Court visited the session division of Bhiwani and inspected the Courts from 14 February 1975 to 19 February 1975. The appellants contended that the prevailing system of Government is not good in the present case\n",
      "Generated summary saved to LLM_generated_summary/3542.txt\n",
      "Generated Summary for 3893.txt: The respondent married the appellant (wife) as a second wife and a few years later had a son by her. The respondent divorced the appellant around July 1962. A suit relating to a flat in which the husband had housed the wife resulted in a consent decree which also settled the marital disputes. The respondent recited that the respondent had transferred the suit premises to the appellant and also the shares of the Cooperative Housing Society which built the flat concerned. There was a reference to mehar money (Rs. 5,000/ and 'iddat'money, Rs. 180/ ) which was also stated to have been adjusted\n",
      "Generated summary saved to LLM_generated_summary/3893.txt\n",
      "Generated Summary for 3019.txt: The appellant was a commissioned officer in the Indian Army and was attached to the Army Ordnance Corps Training Centre. The allegations were that on April 4, 1958, he committed acts of.gross misconduct. The allegations were that he assisted her in going away from her parents protection and planning to run away with a sepoy. The appellant's appeal to the High Court was dismissed. The High Court allowed the appeal. On appeal by special leave, the appellant contended that the Central Government had no jurisdiction to interfere with the decision of the Central Government. The High Court held that the appellant was a commissioned officer in the Indian Army and was not a\n",
      "Generated summary saved to LLM_generated_summary/3019.txt\n",
      "Generated Summary for 7130.txt: The appellants were the legal representatives of the deceased plaintiff in the suit. He had instituted a suit for a declaration and an injunction to restrain the defendants from dispossessing him from the property. The suit was dismissed on the ground that the plaintiff was no more in possession of the suit property and a suit for a mere declaration simpliciter could not lie. On the dismissal of the suit the original plaintiff filed another suit for restoration of possession on the ground that he was the lawful tenant of the suit property and since he had not been dispossessed,in accordance with law, the defen dants who were mere trespassers were liable\n",
      "Generated summary saved to LLM_generated_summary/7130.txt\n",
      "Generated Summary for 5538.txt: The appellant was a monthly tenant of the suit premises since about 2nd February, 1965. On or about 9th February, 1965 a fresh document was executed and it was alleged that the appellant continued by virtue of that agreement. The agreement was entered into between the parties since the respondent wanted to charge more rent or mesne profits. The agreement was described as an agreement of lease and licence'entered into between the respondent and the appellant on the other wherein the respondent had been described as the 'licensor and the appellant had been described as the appellant on the other wherein the respondent had been described as the appellant on the other wherein the respondent\n",
      "Generated summary saved to LLM_generated_summary/5538.txt\n",
      "Generated Summary for 4807.txt: The appellant was appointed as a clerk by the Panchayat Samiti, Loharu, on June 1, 1963. He was confirmed in that post in the course of time. On March 14, 1975 a resolution was passed regularising the post of Head Clerk. On April 1, 1975, the appellant was appointed as a Head Clerk. The Punjab Panchayat Samiti, Zilla Parishads (Haryana Amendment) Act, 1973 introduced extensive amendments in the Punjab Panchayat Samiti Act, 1961. The Amending Act deleted section 33 of the Act. The appellant was appointed as a clerk on June 1, 1963 by the Panchayat Samiti.\n",
      "Generated summary saved to LLM_generated_summary/4807.txt\n",
      "Generated Summary for 652.txt: The appellants challenged the validity of the Madras Commercial Crops Markets Act, 1933, and the Rules framed thereunder. The Act provided for better regulation of the buying and selling of commercial crops in the State of Madras and for that purpose to establish markets and make Rules for their proper administration. The State Government issued a notification under the Act extending the provisions of the Act to Ramanathapuram and Tirunelveli Districts in respect of cotton and groundnuts. The appellants filed writ petitions in the High Court challenging the validity of the provisions of the Act. The High Court dismissed the writ petitions. Held, that\n",
      "Generated summary saved to LLM_generated_summary/652.txt\n",
      "Generated Summary for 3436.txt: The appellant company manufactured arc carbons for the assessment years 1965 66 and 1966 77 under entry No. 4 of the Andhra Pradesh General Sales Tax Act, 1957. The appellant company filed a revision petition in the High Court for a writ of adducing expert evidence to determine the question whether arc carbons manufactured by the appellant company were subject to sales tax for two assessment years 1965 66 and 1966 77 on the ground that they fall under entry No. 4 of the Schedule of the Act. The High Court referred the question whether the arc carbons were commercial commodities and were not taxable commodities under entry No. 4 of the 1st Schedule\n",
      "Generated summary saved to LLM_generated_summary/3436.txt\n",
      "Generated Summary for 4963.txt: The Wealth Tax Officer included a sum of Rs. 1,50,000 as the accrued interest on the money lending investments of the respondent assessee. The assessee appealed to the Appellate Assistant Commissioner and urged that as it maintained its books of account in accordance with the cash system of accounting the accrued interest on the money lending investments could not be included in the wealth tax assessments of the assessee. The Appellate Assistant Commissioner deleted the additions of Rs. 1,50,000 representing accrued interest. The Appellate Assistant Commissioner followed the Appellate Assistant Commissioner and retracted the Appellate Assistant Commissioner's appeal to the Appellate Tribunal and contended that\n",
      "Generated summary saved to LLM_generated_summary/4963.txt\n",
      "Generated Summary for 2124.txt: The appellant and the respondent were candidates for the West Bengal Legislative Assembly. The candidates were candidates for the election to the seat of the Scheduled Castes. The candidates were candidates for the seat in the West Bengal Legislative Assembly. The candidates were candidates for the seat. The candidates were candidates for the seat. The candidates were candidates for the seat. The candidates were candidates for the seat. The candidates were candidates for the seat. The candidates were candidates for the seat. The candidates were candidates for the seat. The candidates were declared elected. The High Court dismissed the petition. The appellant contended that the appellant was not a member of a Scheduled Caste. The appellant con\n",
      "Generated summary saved to LLM_generated_summary/2124.txt\n",
      "Generated Summary for 362.txt: The petitioner, a citizen of India, was assessed to income tax for the years 1943 44 to 1947 1948 and 1951 1952 by the Third Income tax Officer, Bombay, at and for Rs. 40,178 4 0. The respondent, who was not a citizen of India, was not a citizen of India. The petitioner was a 'person of a company of Indestro Sales and Service Co., and the respondent was a 'person of a company of which he was the sole proprietor of a business. The petitioner was a citizen of India. The petitioner filed a writ petition under article 32 of the Constitution challenging the validity of\n",
      "Generated summary saved to LLM_generated_summary/362.txt\n",
      "Generated Summary for 2052.txt: The appellants made applications under section 33 C(2) of the Industrial Disputes Act, 1947, praying for determination and computation of the benefit to which they were entitled under the Desai award as they were not satisfied with the fixation of their pay by the appellant bank under para 5.356. The Desai award dealt with the method of adjustment in the scales of pay fixed by it from para 5.329 onwards. The appellants were employed in banks which were not governed by the provisions of the Sastry award as modified by the Labour Appellate Tribunal Decision (Bank Disputes) Award, 1953. The appellants contended that the Desai award was\n",
      "Generated summary saved to LLM_generated_summary/2052.txt\n",
      "Generated Summary for 4480.txt: The appellant Company was a Government Company incorporated under the, the entire share capital being owned by the Government of India. Respondent No. 1 was the Special Area Development Authority, Korba, District Bilaspur, M.P., respondent No. 2 was its Chairman and respondent No. 3 was the State of M.P. The appellant Company filed a Civil Appeal No. 213 of 1979 filed by it in the High Court of Madhya Pradesh under Article 226 of the Constitution. Respondent No. 1 was the Special Area Development Authority for the Korba Special Area, was constituted under the, the entire share capital being owned by the Government of India\n",
      "Generated summary saved to LLM_generated_summary/4480.txt\n",
      "Generated Summary for 5861.txt: The appellants were on a higher pay scale than that of Section Officers. They were in the pay scale of Rs. 160 320 as against the pay scale of Rs. 120 300 to Section Officers. In 1965 the State Government appointed a Pay Rationalisation Committee with wide ranging reference. The Committee recommended for them a pay scale slightly lower than that of Section Officers. The Bench Secretaries made representation to the Government. The Bench Secretaries demanded that they should be refunded to the Government. The Bench Secretaries made representations to the Government. The Bench Secretaries made representation to the Government. The Bench Secretaries made representation to the Government. The Bench Secretaries demanded that they raise\n",
      "Generated summary saved to LLM_generated_summary/5861.txt\n",
      "Generated Summary for 6157.txt: The appellant was a division of McDowell & Co. Ltd. It manufactures and sells fusel oil/Styrene Monomer falling under Tariff Item No. 68 of the Act. The appellant was a division of McDowell & Co. Ltd. It had its factory at Visakhapatnam. There it manufactures and sells fusel oil/Styrene Monomer falling under Tariff Item No. 68 of the Act. The case of the appellant was that the fusel oil/Styrene Monomer manufactured according to the appellant, is entered in the RG 1 Register maintained for goods manufactured by the appel\n",
      "Generated summary saved to LLM_generated_summary/6157.txt\n",
      "Generated Summary for 1762.txt: The respondent was a resident of the former Dholpur State and the dispute which led to the suit related to a time before the merger of former Dholpur State into the Matsya Union. The respondent applied for and was granted a permit for export of 15,000 maunds of chuni and in connection therewith deposited Rs. 30,000/as export duty in advance. The permit was granted on June 28, 1947, and remained in force upto December 2, 1947. The respondent was not able to export the entire quantity of 15,000 maunds for which the permit was granted. The respondent could only export the entire quantity of 15,000 maunds before December\n",
      "Generated summary saved to LLM_generated_summary/1762.txt\n",
      "Generated Summary for 3292.txt: The appellant filed a suit for recovery of possession of the property of the Dera at Landeke. The trial court decreed the suit. In appeal by the defendant the decree was reversed. An appeal was preferred by the appellant to the High Court. While the appeal was pending in the High Court, the defendant died on 13 10 1970. The appellant's application was made on 1 2 1971 by the appellant stating that the deceased died on 26 11 1970 leaving behind him Shiam Dass as his Chela. The trial court referred the question to the trial court for enquiry and decision. The trial court, after taking evidence, found that Som Dass died on 13 10 1970.\n",
      "Generated summary saved to LLM_generated_summary/3292.txt\n",
      "Generated Summary for 3168.txt: The appellant company was a member of the Registrar of Companies and its directors. The company was a member of the Registrar of Companies and its directors. The company was a member of the Registrar of Companies and the directors of the company. The company was a member of the Registrar of Companies and the directors of the company. The company was a member of the Registrar of Companies and the directors of the company. The company was a member of the Registrar of Companies and the directors of the company. The appellant company filed a complaint against the company for failure to comply with the requirements of section 220(1) of the Companies Act, 1913 and the Company\n",
      "Generated summary saved to LLM_generated_summary/3168.txt\n",
      "Generated Summary for 2609.txt: The petitioners were persons employed in the ministerial services of the Andhra Pradesh Government. They were working in various offices in the cities of Hyderabad and Secunderabad. The petitioners were appointed directly by promotion or by transfer to posts reserved under the Andhra Pradesh Public Employment (Requirement as to Residence) Rules, 1959 for domiciles of Telengana region. The posts so rendered vacant will be filled by qualified candidates possessing domicile qualifications and in cases where such candidates are not available the posts shall be left unfilled till qualified domicile candidates become available. The Government of Andhra Pradesh then passed an order (G.O.Ms. 36, G.O.Ms\n",
      "Generated summary saved to LLM_generated_summary/2609.txt\n",
      "Generated Summary for 2593.txt: The appellant, who was in Government service till the date of the suit, filed a suit for declaration that the order of dismissal passed by the Inspector General of Prisons, Saurashtra, was illegal and void on the ground that it contravened the provisions of article 311(2) of the Constitution. The plaintiff failed before the Civil Judge, Rajkot, but on appeal succeeded before the District Judge, Central Saurashtra, inasmuch as he declared the order illegal and void. The plaintiff appealed to the High Court claiming arrears of salary and the State of Bombay, who directed that the decree be varied so as to show that the appellant was in Government\n",
      "Generated summary saved to LLM_generated_summary/2593.txt\n",
      "Generated Summary for 415.txt: The appellant was detained under the impugned order of detention passed by the Government of Bombay on the 8th June, 1955, under the impugned order. The order of detention was passed by the Government of Bombay on the 8th June, 1955, on the basis of a standing of about thirty years. The appellant was an Advocate of the High Court of Bombay. He was also interested in journalism and public affairs. He was concerned about the political future of Goa and was opposed to any attempts at intimidation of Indian residents of Goan origin by other political groups and was in detention since then under the impugned order. The Government of Bomba\n",
      "Generated summary saved to LLM_generated_summary/415.txt\n",
      "Generated Summary for 2440.txt: The workmen of Orient Paper Mills Ltd., Brajrajnagar, have come up in this appeal by special leave against the award of the Industrial Tribunal, Orissa. An industrial dispute between these workmen and the management of Orient Paper Mills Ltd. (the Company) was referred by the State Government under section 10(1) (d) of the Industrial Disputes Act for adjudication by the Tribunal enumerating 30 different items of dispute. The Tribunal gave its award on all the thirty items. The second matter argued that there was no identical industry in the region comparable with the Company, came to. The Tribunal did not fix the minimum wages in accordance with the minimum wages\n",
      "Generated summary saved to LLM_generated_summary/2440.txt\n",
      "Generated Summary for 232.txt: The respondent and 49 others were charged with various offences alleged to have been committed by them in the course of their raid as an armed gang on a certain factory known as the West Bengal Special Courts Act, 1950. The Special Courts were constituted under section 3 of the West Bengal Special Courts Ordinance, 1949, which was replaced in March, 1950, by the West Bengal Special Courts Act, 1950, which was deemed to have been a'seventh and final rule '. The Special Court of the High Court of Calcutta, quashed the conviction of the respondent by the State of West Bengal. The respondent and 49 others were charged with various\n",
      "Generated summary saved to LLM_generated_summary/232.txt\n",
      "Generated Summary for 715.txt: The appellants were the bus conductors of the Andheri Marol Kurla Bus Service. The appellants were the appellants. The appellants were the Andheri Marol Kurla Bus Service and the appellants were the appellants. The appellants were the appellants. The appellants were the Andheri Marol Kurla Bus Service and the appellants were the appellants. The appellants were the appellants. The appellants were the appellants. The appellants contended that the appellants were guilty of the offence under section 31(1) read with section 33(1) of the. The appellants were\n",
      "Generated summary saved to LLM_generated_summary/715.txt\n",
      "Generated Summary for 6413.txt: The appellant was a registered Headclerk in the Tamil Nadu Forest Training School. He was sentenced to undergo R.I. for 15 months under section 5(2) read with section 5(1)(d) of the Prevention of Corruption Act. The appellant was convicted under section 161 I.P.C. and under section 336 5(2) read with section 5(1)(d) of the Prevention of Corruption Act. The appellant was a registered Headclerk in the training school. The Principal of the training school issued exhibit P 2 show cause notice to the appellant as to why his licence for running the canteen should not be cancelled. The appellant had taken food in the can\n",
      "Generated summary saved to LLM_generated_summary/6413.txt\n",
      "Generated Summary for 2627.txt: The respondent's suit was disposed of as compromised by an order dated December 1, 1960. The suit was disposed of as compromised. The suit was inter alia agreed that the respondent was bound and liable to allow Filmistan to exercise its \"exhibition rights\" in the theatre. The respondent was bound and liable to allow Filmistan to exhibit cinematograph films in the theatre. The respondent was bound and liable to allow Filmistan to exhibit its \"exhibition rights\" in the theatre. The respondent's appeal was dismissed by the High Court. HELD: (i) The suit was disposed of as compromised. [437 D]\n",
      "Generated summary saved to LLM_generated_summary/2627.txt\n",
      "Generated Summary for 7109.txt: The Board of Revenue for Rajasthan and others commenced proceedings under Chapter III B of the Rajasthan Tenancy Act, 1955, for determining the ceiling area for Raghubir Singh. The Sub Divisional Officer, Hanumangarh, by his order dated 10th August, 1972 determined the ceiling area, but an appeal by Raghubir Singh, the Revenue Appellate Authority, set aside the order of the sub divisional Officer on March 6, 1973 and remanded the case. The matter was taken to the Board of Revenue for Rajasthan by a revision application and the Board by its order dated 14th April, 1975 directed that the ceiling area for Raghubir Singh may be determined according to\n",
      "Generated summary saved to LLM_generated_summary/7109.txt\n",
      "Generated Summary for 2207.txt: The respondent purchased by a registered instrument a business carried on by a Purushottam Raju under the name All India Trading Company. Purushottam Raju was the sole proprietor of the business and had been assessed to sales tax in respect of his turnover for the years 1948 49 and 1949 50. The Sales Tax authorities attempted to recover the arrears of tax from the respondent as the purchaser of the business. The respondent denied liability to pay sales tax but his contention was overruled by the Deputy Commercial Tax Officer. The respondent appealed to the Commercial Tax Officer as well as to the Board of Revenue. The respondent filed a writ petition in the High\n",
      "Generated summary saved to LLM_generated_summary/2207.txt\n",
      "Generated Summary for 5142.txt: The petitioner was detained under section 3(2) of the, on the ground that his activities were prejudicial to the maintenance of public order. The order of detention was passed on an incident relating to the exchange of fire between two rival groups. The petitioner filed a writ petition in the High Court challenging the order of detention. The High Court dismissed the petition. Dismissing the appeal,  HELD: 1. The detention is a prejudicial act and is a prejudicial act. [907F] 2. The petitioner was a member of the armed forces and was armed with a gun and a gun and a gun and a gun\n",
      "Generated summary saved to LLM_generated_summary/5142.txt\n",
      "Generated Summary for 1406.txt: One Sankaran was in the employ of the appellant as a crosscutter. He came drunk to a mill and abused the Engineer, the Secretary and others and threatened them with physical violence. Thereupon the appellant served a charge sheet on Sankaran on June 24, 1958, acting out the above facts and asked him to show cause why his services should not be terminated on account of his grave indiscipline and misconduct. Sankaran, who was informed that in view of his denial, a departmental inquiry would be held and he was also placed under suspension pending inquiry. The same day Sankaran again wrote to the appellant to hold the inquiry as early as\n",
      "Generated summary saved to LLM_generated_summary/1406.txt\n",
      "Generated Summary for 5397.txt: The petitioner was compulsorily retired by an order dated 3.8.1976 under Rule 56(j) of the Fundamental Rules, and was pro moted as officiating Executive Engineer in Class II service with effect from'25.5.1954. He was further promoted as officiating Executive Engineer in Class I service but on 4.9.65 he was reverted to the post of Assistant Engineer in officiating position and was con tinuing in that post when he was compulsorily retired. The petitioner was born on 10.2.1922 and secured his first appointment as a Section Officer under the Government of India. The petitioner was reverted\n",
      "Generated summary saved to LLM_generated_summary/5397.txt\n",
      "Generated Summary for 6003.txt: The appellants of Civil Appeal No. 441 of 1981 filed a writ petition in the Allahabad High Court in 1972 asserting that they had been appointed as Supervisors Grade 'A'in various ordnance factories between 1962 to 1966. The petitioners in the writ petitions claim that they had been appointed as Supervisors Grade 'A'in various ordnance factories between 1962 to 1966. The appellants filed these writ petitions contending that the same relief may be granted to them also as was granted by this Court on 2nd February, 1981 in Civil Appeal No. 441 of 1981. The appellants filed a\n",
      "Generated summary saved to LLM_generated_summary/6003.txt\n",
      "Generated Summary for 5707.txt: The appellant, All India Reporter, Criminal Law Journal, Labour and Industrial Cases, Taxation Law Reports, Allahabad Law Journal and U.P. Law Tribune published by the 1st respondent, All India Reporter Limited, were newspapers as defined in the Working Journalists and Other Newspaper Employees (Conditions of Service) and Miscellaneous Provisions Act, 1955. The Act was enacted on 20th December, 1955 with the object of regulating certain conditions of service of working journalists and other employees of the newspaper establishments. The Act enacted on 20th December, 1955 with the object of regulating certain conditions of service of working journalists and other employees employed in the\n",
      "Generated summary saved to LLM_generated_summary/5707.txt\n",
      "Generated Summary for 4860.txt: The State of Maharashtra filed a writ petition in the High Court for enhancement of the sentence of imprisonment for life awarded to accused 1 and 6 by the trial court. The State of Maharashtra filed a writ petition in the High Court for acquittal of the accused and the acquittal of the accused. The trial court convicted the accused and sentenced them to imprisonment for life. The trial court acquitted the accused and set aside the sentence. The trial court acquitted the accused and set aside the sentence. The High Court acquitted the accused and set aside the sentence. The appellants appealed to this\n",
      "Generated summary saved to LLM_generated_summary/4860.txt\n",
      "Generated Summary for 6881.txt: The Punjab Preemption Act, 1913 was repealed by the State of Punjab in 1973 but it was in force in the State of Punjab. The provisions of section 15 of the Act were enacted in the State of Punjab. The provisions of section 15 of the Act were enacted in the State of Punjab. The provisions of section 15 of the Act were enacted in the State of Punjab. The provisions of section 15 of the Act were enacted in the State of Punjab. The provisions of section 15 of the Act were enacted in 1973. The provisions of the Act were deemed to have been in force in the State of Punjab. The provisions of the Act were void. The provisions of section\n",
      "Generated summary saved to LLM_generated_summary/6881.txt\n"
     ]
    }
   ],
   "source": [
    "import os\n",
    "from transformers import T5ForConditionalGeneration, T5Tokenizer\n",
    "\n",
    "\n",
    "model_directory_path = 'fine_tuned_legal_summarizer'\n",
    "\n",
    "input_folder_path = 'test_judg'\n",
    "\n",
    "output_folder_path = 'LLM_generated_summary'\n",
    "\n",
    "os.makedirs(output_folder_path, exist_ok=True)\n",
    "\n",
    "\n",
    "original_model = T5ForConditionalGeneration.from_pretrained('t5-small')\n",
    "original_tokenizer = T5Tokenizer.from_pretrained('t5-small')\n",
    "\n",
    "\n",
    "fine_tuned_model = T5ForConditionalGeneration.from_pretrained(model_directory_path)\n",
    "\n",
    "\n",
    "input_files = [f for f in os.listdir(input_folder_path) if f.endswith('.txt')]\n",
    "\n",
    "for input_file in input_files:\n",
    "    \n",
    "    with open(os.path.join(input_folder_path, input_file), 'r', encoding='utf-8') as file:\n",
    "        input_text = file.read()\n",
    "\n",
    "    \n",
    "    input_encoding = original_tokenizer(input_text, return_tensors='pt', max_length=512, truncation=True, padding=True)\n",
    "    summary_ids = fine_tuned_model.generate(**input_encoding, max_length=150, use_cache=False)\n",
    "\n",
    "    generated_summary = original_tokenizer.decode(summary_ids[0], skip_special_tokens=True)\n",
    "\n",
    "   \n",
    "    output_file_path = os.path.join(output_folder_path, input_file)\n",
    "    with open(output_file_path, 'w', encoding='utf-8') as output_file:\n",
    "        output_file.write(generated_summary)\n",
    "\n",
    "    print(f\"Generated summary saved to {output_file_path}\")\n"
   ]
  },
  {
   "cell_type": "markdown",
   "metadata": {},
   "source": []
  }
 ],
 "metadata": {
  "kernelspec": {
   "display_name": "Python 3",
   "language": "python",
   "name": "python3"
  },
  "language_info": {
   "codemirror_mode": {
    "name": "ipython",
    "version": 3
   },
   "file_extension": ".py",
   "mimetype": "text/x-python",
   "name": "python",
   "nbconvert_exporter": "python",
   "pygments_lexer": "ipython3",
   "version": "3.10.12"
  }
 },
 "nbformat": 4,
 "nbformat_minor": 2
}
