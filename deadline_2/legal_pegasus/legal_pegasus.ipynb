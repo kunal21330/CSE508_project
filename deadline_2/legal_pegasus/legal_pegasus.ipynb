{
 "cells": [
  {
   "cell_type": "code",
   "execution_count": 1,
   "metadata": {},
   "outputs": [
    {
     "name": "stdout",
     "output_type": "stream",
     "text": [
      "Requirement already satisfied: transformers in c:\\python312\\lib\\site-packages (4.37.2)\n",
      "Requirement already satisfied: filelock in c:\\python312\\lib\\site-packages (from transformers) (3.13.1)\n",
      "Requirement already satisfied: huggingface-hub<1.0,>=0.19.3 in c:\\python312\\lib\\site-packages (from transformers) (0.20.3)\n",
      "Requirement already satisfied: numpy>=1.17 in c:\\python312\\lib\\site-packages (from transformers) (1.26.3)\n",
      "Requirement already satisfied: packaging>=20.0 in c:\\users\\omegh\\appdata\\roaming\\python\\python312\\site-packages (from transformers) (23.2)\n",
      "Requirement already satisfied: pyyaml>=5.1 in c:\\python312\\lib\\site-packages (from transformers) (6.0.1)\n",
      "Requirement already satisfied: regex!=2019.12.17 in c:\\python312\\lib\\site-packages (from transformers) (2023.12.25)\n",
      "Requirement already satisfied: requests in c:\\python312\\lib\\site-packages (from transformers) (2.31.0)\n",
      "Requirement already satisfied: tokenizers<0.19,>=0.14 in c:\\python312\\lib\\site-packages (from transformers) (0.15.1)\n",
      "Requirement already satisfied: safetensors>=0.4.1 in c:\\python312\\lib\\site-packages (from transformers) (0.4.2)\n",
      "Requirement already satisfied: tqdm>=4.27 in c:\\python312\\lib\\site-packages (from transformers) (4.66.1)\n",
      "Requirement already satisfied: fsspec>=2023.5.0 in c:\\python312\\lib\\site-packages (from huggingface-hub<1.0,>=0.19.3->transformers) (2023.12.2)\n",
      "Requirement already satisfied: typing-extensions>=3.7.4.3 in c:\\python312\\lib\\site-packages (from huggingface-hub<1.0,>=0.19.3->transformers) (4.9.0)\n",
      "Requirement already satisfied: colorama in c:\\users\\omegh\\appdata\\roaming\\python\\python312\\site-packages (from tqdm>=4.27->transformers) (0.4.6)\n",
      "Requirement already satisfied: charset-normalizer<4,>=2 in c:\\python312\\lib\\site-packages (from requests->transformers) (3.3.2)\n",
      "Requirement already satisfied: idna<4,>=2.5 in c:\\python312\\lib\\site-packages (from requests->transformers) (3.6)\n",
      "Requirement already satisfied: urllib3<3,>=1.21.1 in c:\\python312\\lib\\site-packages (from requests->transformers) (2.2.0)\n",
      "Requirement already satisfied: certifi>=2017.4.17 in c:\\python312\\lib\\site-packages (from requests->transformers) (2024.2.2)\n"
     ]
    },
    {
     "name": "stderr",
     "output_type": "stream",
     "text": [
      "\n",
      "[notice] A new release of pip is available: 23.2.1 -> 24.0\n",
      "[notice] To update, run: python.exe -m pip install --upgrade pip\n"
     ]
    }
   ],
   "source": [
    "!pip install transformers"
   ]
  },
  {
   "cell_type": "code",
   "execution_count": 2,
   "metadata": {},
   "outputs": [
    {
     "name": "stdout",
     "output_type": "stream",
     "text": [
      "Requirement already satisfied: sentencepiece in c:\\python312\\lib\\site-packages (0.2.0)\n",
      "Note: you may need to restart the kernel to use updated packages.\n"
     ]
    },
    {
     "name": "stderr",
     "output_type": "stream",
     "text": [
      "\n",
      "[notice] A new release of pip is available: 23.2.1 -> 24.0\n",
      "[notice] To update, run: python.exe -m pip install --upgrade pip\n"
     ]
    }
   ],
   "source": [
    "pip install sentencepiece\n"
   ]
  },
  {
   "cell_type": "code",
   "execution_count": 3,
   "metadata": {},
   "outputs": [
    {
     "name": "stdout",
     "output_type": "stream",
     "text": [
      "Requirement already satisfied: protobuf in c:\\python312\\lib\\site-packages (4.25.3)\n",
      "Note: you may need to restart the kernel to use updated packages.\n"
     ]
    },
    {
     "name": "stderr",
     "output_type": "stream",
     "text": [
      "\n",
      "[notice] A new release of pip is available: 23.2.1 -> 24.0\n",
      "[notice] To update, run: python.exe -m pip install --upgrade pip\n"
     ]
    }
   ],
   "source": [
    "pip install protobuf\n"
   ]
  },
  {
   "cell_type": "code",
   "execution_count": 4,
   "metadata": {},
   "outputs": [
    {
     "name": "stdout",
     "output_type": "stream",
     "text": [
      "Requirement already satisfied: torch in c:\\python312\\lib\\site-packages (2.2.0)\n",
      "Requirement already satisfied: filelock in c:\\python312\\lib\\site-packages (from torch) (3.13.1)\n",
      "Requirement already satisfied: typing-extensions>=4.8.0 in c:\\python312\\lib\\site-packages (from torch) (4.9.0)\n",
      "Requirement already satisfied: sympy in c:\\python312\\lib\\site-packages (from torch) (1.12)\n",
      "Requirement already satisfied: networkx in c:\\python312\\lib\\site-packages (from torch) (3.2.1)\n",
      "Requirement already satisfied: jinja2 in c:\\python312\\lib\\site-packages (from torch) (3.1.3)\n",
      "Requirement already satisfied: fsspec in c:\\python312\\lib\\site-packages (from torch) (2023.12.2)\n",
      "Requirement already satisfied: MarkupSafe>=2.0 in c:\\python312\\lib\\site-packages (from jinja2->torch) (2.1.5)\n",
      "Requirement already satisfied: mpmath>=0.19 in c:\\python312\\lib\\site-packages (from sympy->torch) (1.3.0)\n"
     ]
    },
    {
     "name": "stderr",
     "output_type": "stream",
     "text": [
      "\n",
      "[notice] A new release of pip is available: 23.2.1 -> 24.0\n",
      "[notice] To update, run: python.exe -m pip install --upgrade pip\n"
     ]
    }
   ],
   "source": [
    "!pip install torch"
   ]
  },
  {
   "cell_type": "code",
   "execution_count": 7,
   "metadata": {},
   "outputs": [
    {
     "name": "stdout",
     "output_type": "stream",
     "text": [
      "Collecting sentence-transformers\n",
      "  Obtaining dependency information for sentence-transformers from https://files.pythonhosted.org/packages/68/0d/27475988a3daade7516ea02dbc607b57d4a30f01bb49614a6430e76685c2/sentence_transformers-2.5.1-py3-none-any.whl.metadata\n",
      "  Downloading sentence_transformers-2.5.1-py3-none-any.whl.metadata (11 kB)\n",
      "Requirement already satisfied: transformers<5.0.0,>=4.32.0 in c:\\python312\\lib\\site-packages (from sentence-transformers) (4.37.2)\n",
      "Requirement already satisfied: tqdm in c:\\python312\\lib\\site-packages (from sentence-transformers) (4.66.1)\n",
      "Requirement already satisfied: torch>=1.11.0 in c:\\python312\\lib\\site-packages (from sentence-transformers) (2.2.0)\n",
      "Requirement already satisfied: numpy in c:\\python312\\lib\\site-packages (from sentence-transformers) (1.26.3)\n",
      "Collecting scikit-learn (from sentence-transformers)\n",
      "  Obtaining dependency information for scikit-learn from https://files.pythonhosted.org/packages/76/d8/02fa68de37f657e6bb241e6f9ec6240bafa43222d3ef836a248145d9548f/scikit_learn-1.4.1.post1-cp312-cp312-win_amd64.whl.metadata\n",
      "  Downloading scikit_learn-1.4.1.post1-cp312-cp312-win_amd64.whl.metadata (11 kB)\n",
      "Collecting scipy (from sentence-transformers)\n",
      "  Obtaining dependency information for scipy from https://files.pythonhosted.org/packages/f3/31/91a2a3c5eb85d2bfa86d7c98f2df5d77dcdefb3d80ca9f9037ad04393acf/scipy-1.12.0-cp312-cp312-win_amd64.whl.metadata\n",
      "  Downloading scipy-1.12.0-cp312-cp312-win_amd64.whl.metadata (60 kB)\n",
      "     ---------------------------------------- 0.0/60.4 kB ? eta -:--:--\n",
      "     -------------------- ------------------- 30.7/60.4 kB 1.4 MB/s eta 0:00:01\n",
      "     ---------------------------------------- 60.4/60.4 kB 1.1 MB/s eta 0:00:00\n",
      "Requirement already satisfied: huggingface-hub>=0.15.1 in c:\\python312\\lib\\site-packages (from sentence-transformers) (0.20.3)\n",
      "Requirement already satisfied: Pillow in c:\\python312\\lib\\site-packages (from sentence-transformers) (10.2.0)\n",
      "Requirement already satisfied: filelock in c:\\python312\\lib\\site-packages (from huggingface-hub>=0.15.1->sentence-transformers) (3.13.1)\n",
      "Requirement already satisfied: fsspec>=2023.5.0 in c:\\python312\\lib\\site-packages (from huggingface-hub>=0.15.1->sentence-transformers) (2023.12.2)\n",
      "Requirement already satisfied: requests in c:\\python312\\lib\\site-packages (from huggingface-hub>=0.15.1->sentence-transformers) (2.31.0)\n",
      "Requirement already satisfied: pyyaml>=5.1 in c:\\python312\\lib\\site-packages (from huggingface-hub>=0.15.1->sentence-transformers) (6.0.1)\n",
      "Requirement already satisfied: typing-extensions>=3.7.4.3 in c:\\python312\\lib\\site-packages (from huggingface-hub>=0.15.1->sentence-transformers) (4.9.0)\n",
      "Requirement already satisfied: packaging>=20.9 in c:\\users\\omegh\\appdata\\roaming\\python\\python312\\site-packages (from huggingface-hub>=0.15.1->sentence-transformers) (23.2)\n",
      "Requirement already satisfied: sympy in c:\\python312\\lib\\site-packages (from torch>=1.11.0->sentence-transformers) (1.12)\n",
      "Requirement already satisfied: networkx in c:\\python312\\lib\\site-packages (from torch>=1.11.0->sentence-transformers) (3.2.1)\n",
      "Requirement already satisfied: jinja2 in c:\\python312\\lib\\site-packages (from torch>=1.11.0->sentence-transformers) (3.1.3)\n",
      "Requirement already satisfied: colorama in c:\\users\\omegh\\appdata\\roaming\\python\\python312\\site-packages (from tqdm->sentence-transformers) (0.4.6)\n",
      "Requirement already satisfied: regex!=2019.12.17 in c:\\python312\\lib\\site-packages (from transformers<5.0.0,>=4.32.0->sentence-transformers) (2023.12.25)\n",
      "Requirement already satisfied: tokenizers<0.19,>=0.14 in c:\\python312\\lib\\site-packages (from transformers<5.0.0,>=4.32.0->sentence-transformers) (0.15.1)\n",
      "Requirement already satisfied: safetensors>=0.4.1 in c:\\python312\\lib\\site-packages (from transformers<5.0.0,>=4.32.0->sentence-transformers) (0.4.2)\n",
      "Collecting joblib>=1.2.0 (from scikit-learn->sentence-transformers)\n",
      "  Obtaining dependency information for joblib>=1.2.0 from https://files.pythonhosted.org/packages/10/40/d551139c85db202f1f384ba8bcf96aca2f329440a844f924c8a0040b6d02/joblib-1.3.2-py3-none-any.whl.metadata\n",
      "  Downloading joblib-1.3.2-py3-none-any.whl.metadata (5.4 kB)\n",
      "Collecting threadpoolctl>=2.0.0 (from scikit-learn->sentence-transformers)\n",
      "  Obtaining dependency information for threadpoolctl>=2.0.0 from https://files.pythonhosted.org/packages/b1/2c/f504e55d98418f2fcf756a56877e6d9a45dd5ed28b3d7c267b300e85ad5b/threadpoolctl-3.3.0-py3-none-any.whl.metadata\n",
      "  Downloading threadpoolctl-3.3.0-py3-none-any.whl.metadata (13 kB)\n",
      "Requirement already satisfied: MarkupSafe>=2.0 in c:\\python312\\lib\\site-packages (from jinja2->torch>=1.11.0->sentence-transformers) (2.1.5)\n",
      "Requirement already satisfied: charset-normalizer<4,>=2 in c:\\python312\\lib\\site-packages (from requests->huggingface-hub>=0.15.1->sentence-transformers) (3.3.2)\n",
      "Requirement already satisfied: idna<4,>=2.5 in c:\\python312\\lib\\site-packages (from requests->huggingface-hub>=0.15.1->sentence-transformers) (3.6)\n",
      "Requirement already satisfied: urllib3<3,>=1.21.1 in c:\\python312\\lib\\site-packages (from requests->huggingface-hub>=0.15.1->sentence-transformers) (2.2.0)\n",
      "Requirement already satisfied: certifi>=2017.4.17 in c:\\python312\\lib\\site-packages (from requests->huggingface-hub>=0.15.1->sentence-transformers) (2024.2.2)\n",
      "Requirement already satisfied: mpmath>=0.19 in c:\\python312\\lib\\site-packages (from sympy->torch>=1.11.0->sentence-transformers) (1.3.0)\n",
      "Downloading sentence_transformers-2.5.1-py3-none-any.whl (156 kB)\n",
      "   ---------------------------------------- 0.0/156.5 kB ? eta -:--:--\n",
      "   ---------------------------------------- 156.5/156.5 kB 9.1 MB/s eta 0:00:00\n",
      "Downloading scikit_learn-1.4.1.post1-cp312-cp312-win_amd64.whl (10.6 MB)\n",
      "   ---------------------------------------- 0.0/10.6 MB ? eta -:--:--\n",
      "   -- ------------------------------------- 0.8/10.6 MB 24.8 MB/s eta 0:00:01\n",
      "   ------- -------------------------------- 1.9/10.6 MB 30.1 MB/s eta 0:00:01\n",
      "   ------------- -------------------------- 3.5/10.6 MB 32.0 MB/s eta 0:00:01\n",
      "   ----------------- ---------------------- 4.8/10.6 MB 30.5 MB/s eta 0:00:01\n",
      "   ----------------------- ---------------- 6.3/10.6 MB 31.1 MB/s eta 0:00:01\n",
      "   ---------------------------- ----------- 7.5/10.6 MB 31.9 MB/s eta 0:00:01\n",
      "   ----------------------------------- ---- 9.3/10.6 MB 33.1 MB/s eta 0:00:01\n",
      "   ---------------------------------------  10.6/10.6 MB 32.8 MB/s eta 0:00:01\n",
      "   ---------------------------------------- 10.6/10.6 MB 29.8 MB/s eta 0:00:00\n",
      "Downloading scipy-1.12.0-cp312-cp312-win_amd64.whl (45.8 MB)\n",
      "   ---------------------------------------- 0.0/45.8 MB ? eta -:--:--\n",
      "   - -------------------------------------- 1.7/45.8 MB 35.7 MB/s eta 0:00:02\n",
      "   -- ------------------------------------- 2.6/45.8 MB 33.5 MB/s eta 0:00:02\n",
      "   --- ------------------------------------ 3.8/45.8 MB 30.1 MB/s eta 0:00:02\n",
      "   ---- ----------------------------------- 5.1/45.8 MB 27.4 MB/s eta 0:00:02\n",
      "   ----- ---------------------------------- 6.8/45.8 MB 29.2 MB/s eta 0:00:02\n",
      "   ------- -------------------------------- 8.4/45.8 MB 29.8 MB/s eta 0:00:02\n",
      "   -------- ------------------------------- 9.3/45.8 MB 29.6 MB/s eta 0:00:02\n",
      "   --------- ------------------------------ 10.9/45.8 MB 28.5 MB/s eta 0:00:02\n",
      "   ---------- ----------------------------- 12.4/45.8 MB 29.7 MB/s eta 0:00:02\n",
      "   ------------ --------------------------- 14.0/45.8 MB 32.8 MB/s eta 0:00:01\n",
      "   ------------- -------------------------- 15.7/45.8 MB 32.7 MB/s eta 0:00:01\n",
      "   -------------- ------------------------- 17.1/45.8 MB 32.7 MB/s eta 0:00:01\n",
      "   ---------------- ----------------------- 18.5/45.8 MB 34.4 MB/s eta 0:00:01\n",
      "   ----------------- ---------------------- 20.0/45.8 MB 34.4 MB/s eta 0:00:01\n",
      "   ------------------ --------------------- 21.4/45.8 MB 34.4 MB/s eta 0:00:01\n",
      "   ------------------- -------------------- 22.8/45.8 MB 36.4 MB/s eta 0:00:01\n",
      "   -------------------- ------------------- 24.1/45.8 MB 34.4 MB/s eta 0:00:01\n",
      "   ---------------------- ----------------- 25.3/45.8 MB 32.7 MB/s eta 0:00:01\n",
      "   ---------------------- ----------------- 26.2/45.8 MB 32.8 MB/s eta 0:00:01\n",
      "   ----------------------- ---------------- 27.4/45.8 MB 32.8 MB/s eta 0:00:01\n",
      "   ------------------------ --------------- 28.3/45.8 MB 31.2 MB/s eta 0:00:01\n",
      "   -------------------------- ------------- 29.8/45.8 MB 29.7 MB/s eta 0:00:01\n",
      "   --------------------------- ------------ 31.0/45.8 MB 28.5 MB/s eta 0:00:01\n",
      "   --------------------------- ------------ 31.5/45.8 MB 27.3 MB/s eta 0:00:01\n",
      "   ----------------------------- ---------- 33.3/45.8 MB 27.3 MB/s eta 0:00:01\n",
      "   ------------------------------ --------- 34.5/45.8 MB 27.3 MB/s eta 0:00:01\n",
      "   ------------------------------- -------- 35.6/45.8 MB 28.5 MB/s eta 0:00:01\n",
      "   -------------------------------- ------- 37.0/45.8 MB 28.5 MB/s eta 0:00:01\n",
      "   -------------------------------- ------- 37.4/45.8 MB 26.2 MB/s eta 0:00:01\n",
      "   --------------------------------- ------ 38.9/45.8 MB 27.3 MB/s eta 0:00:01\n",
      "   ---------------------------------- ----- 39.9/45.8 MB 26.2 MB/s eta 0:00:01\n",
      "   ----------------------------------- ---- 41.0/45.8 MB 27.3 MB/s eta 0:00:01\n",
      "   ------------------------------------ --- 42.3/45.8 MB 29.7 MB/s eta 0:00:01\n",
      "   -------------------------------------- - 43.8/45.8 MB 29.8 MB/s eta 0:00:01\n",
      "   ---------------------------------------  45.1/45.8 MB 31.2 MB/s eta 0:00:01\n",
      "   ---------------------------------------  45.8/45.8 MB 29.7 MB/s eta 0:00:01\n",
      "   ---------------------------------------  45.8/45.8 MB 29.7 MB/s eta 0:00:01\n",
      "   ---------------------------------------  45.8/45.8 MB 29.7 MB/s eta 0:00:01\n",
      "   ---------------------------------------- 45.8/45.8 MB 21.8 MB/s eta 0:00:00\n",
      "Downloading joblib-1.3.2-py3-none-any.whl (302 kB)\n",
      "   ---------------------------------------- 0.0/302.2 kB ? eta -:--:--\n",
      "   --------------------------------------- 302.2/302.2 kB 19.5 MB/s eta 0:00:00\n",
      "Downloading threadpoolctl-3.3.0-py3-none-any.whl (17 kB)\n",
      "Installing collected packages: threadpoolctl, scipy, joblib, scikit-learn, sentence-transformers\n",
      "Successfully installed joblib-1.3.2 scikit-learn-1.4.1.post1 scipy-1.12.0 sentence-transformers-2.5.1 threadpoolctl-3.3.0\n",
      "Note: you may need to restart the kernel to use updated packages.\n"
     ]
    },
    {
     "name": "stderr",
     "output_type": "stream",
     "text": [
      "\n",
      "[notice] A new release of pip is available: 23.2.1 -> 24.0\n",
      "[notice] To update, run: python.exe -m pip install --upgrade pip\n"
     ]
    }
   ],
   "source": [
    "pip install sentence-transformers\n"
   ]
  },
  {
   "cell_type": "code",
   "execution_count": 8,
   "metadata": {},
   "outputs": [
    {
     "name": "stdout",
     "output_type": "stream",
     "text": [
      "Collecting summa\n",
      "  Downloading summa-1.2.0.tar.gz (54 kB)\n",
      "     ---------------------------------------- 0.0/54.9 kB ? eta -:--:--\n",
      "     ------- -------------------------------- 10.2/54.9 kB ? eta -:--:--\n",
      "     ---------------------------- --------- 41.0/54.9 kB 487.6 kB/s eta 0:00:01\n",
      "     -------------------------------------- 54.9/54.9 kB 565.5 kB/s eta 0:00:00\n",
      "  Installing build dependencies: started\n",
      "  Installing build dependencies: finished with status 'done'\n",
      "  Getting requirements to build wheel: started\n",
      "  Getting requirements to build wheel: finished with status 'done'\n",
      "  Preparing metadata (pyproject.toml): started\n",
      "  Preparing metadata (pyproject.toml): finished with status 'done'\n",
      "Requirement already satisfied: scipy>=0.19 in c:\\python312\\lib\\site-packages (from summa) (1.12.0)\n",
      "Requirement already satisfied: numpy<1.29.0,>=1.22.4 in c:\\python312\\lib\\site-packages (from scipy>=0.19->summa) (1.26.3)\n",
      "Building wheels for collected packages: summa\n",
      "  Building wheel for summa (pyproject.toml): started\n",
      "  Building wheel for summa (pyproject.toml): finished with status 'done'\n",
      "  Created wheel for summa: filename=summa-1.2.0-py3-none-any.whl size=54408 sha256=e0c28e46609433cb06dfc37af62db23de3833e545f85f7ddf743a50a65f060c9\n",
      "  Stored in directory: c:\\users\\omegh\\appdata\\local\\pip\\cache\\wheels\\70\\26\\84\\58df5a55ebde6fd802666b6ac0b86909ecd018a2702b89d13c\n",
      "Successfully built summa\n",
      "Installing collected packages: summa\n",
      "Note: you may need to restart the kernel to use updated packages.\n"
     ]
    },
    {
     "name": "stderr",
     "output_type": "stream",
     "text": [
      "  WARNING: Failed to write executable - trying to use .deleteme logic\n",
      "ERROR: Could not install packages due to an OSError: [WinError 2] The system cannot find the file specified: 'c:\\\\Python312\\\\Scripts\\\\textrank.exe' -> 'c:\\\\Python312\\\\Scripts\\\\textrank.exe.deleteme'\n",
      "\n",
      "\n",
      "[notice] A new release of pip is available: 23.2.1 -> 24.0\n",
      "[notice] To update, run: python.exe -m pip install --upgrade pip\n"
     ]
    }
   ],
   "source": [
    "pip install summa"
   ]
  },
  {
   "cell_type": "code",
   "execution_count": 9,
   "metadata": {},
   "outputs": [
    {
     "name": "stderr",
     "output_type": "stream",
     "text": [
      "modules.json: 100%|██████████| 248/248 [00:00<?, ?B/s] \n",
      "c:\\Python312\\Lib\\site-packages\\huggingface_hub\\file_download.py:149: UserWarning: `huggingface_hub` cache-system uses symlinks by default to efficiently store duplicated files but your machine does not support them in C:\\Users\\omegh\\.cache\\huggingface\\hub\\models--sentence-transformers--average_word_embeddings_glove.6B.300d. Caching files will still work but in a degraded version that might require more space on your disk. This warning can be disabled by setting the `HF_HUB_DISABLE_SYMLINKS_WARNING` environment variable. For more details, see https://huggingface.co/docs/huggingface_hub/how-to-cache#limitations.\n",
      "To support symlinks on Windows, you either need to activate Developer Mode or to run Python as an administrator. In order to see activate developer mode, see this article: https://docs.microsoft.com/en-us/windows/apps/get-started/enable-your-device-for-development\n",
      "  warnings.warn(message)\n",
      "config_sentence_transformers.json: 100%|██████████| 122/122 [00:00<?, ?B/s] \n",
      "README.md: 100%|██████████| 2.19k/2.19k [00:00<?, ?B/s]\n",
      "(…)WordEmbeddings/wordembedding_config.json: 100%|██████████| 164/164 [00:00<?, ?B/s] \n",
      "(…)beddings/whitespacetokenizer_config.json: 100%|██████████| 4.61M/4.61M [00:01<00:00, 3.10MB/s]\n",
      "pytorch_model.bin: 100%|██████████| 480M/480M [00:15<00:00, 30.9MB/s]\n",
      "1_Pooling/config.json: 100%|██████████| 190/190 [00:00<?, ?B/s] \n"
     ]
    }
   ],
   "source": [
    "from transformers import AutoTokenizer, AutoModelForSeq2SeqLM\n",
    "from sentence_transformers import SentenceTransformer\n",
    "import torch\n",
    "from summa import summarizer  # Using Summa for final summarization\n",
    "\n",
    "# Initialize the models\n",
    "tokenizer = AutoTokenizer.from_pretrained(\"nsi319/legal-pegasus\")\n",
    "model = AutoModelForSeq2SeqLM.from_pretrained(\"nsi319/legal-pegasus\")\n",
    "sentence_model = SentenceTransformer(\"average_word_embeddings_glove.6B.300d\")\n"
   ]
  },
  {
   "cell_type": "code",
   "execution_count": 10,
   "metadata": {},
   "outputs": [],
   "source": [
    "# Function to preprocess text and split into chunks\n",
    "def preprocess_and_chunk(text, chunk_size=1000):\n",
    "    preprocessed_chunks = []\n",
    "    text_chunks = [text[i:i+chunk_size] for i in range(0, len(text), chunk_size)]\n",
    "    for chunk in text_chunks:\n",
    "        # Tokenize and encode the chunk\n",
    "        input_tokenized = tokenizer.encode(chunk, return_tensors='pt', max_length=1024, truncation=True)\n",
    "        preprocessed_chunks.append(input_tokenized)\n",
    "    return preprocessed_chunks\n"
   ]
  },
  {
   "cell_type": "code",
   "execution_count": 11,
   "metadata": {},
   "outputs": [],
   "source": [
    "# Function to generate summary for each chunk\n",
    "def generate_summaries(chunks):\n",
    "    summaries = []\n",
    "    for chunk in chunks:\n",
    "        with torch.no_grad():\n",
    "            summary_ids = model.generate(chunk, num_beams=9, no_repeat_ngram_size=3, length_penalty=2.0,\n",
    "                                         min_length=150, max_length=250, early_stopping=True)\n",
    "            summary = [tokenizer.decode(g, skip_special_tokens=True, clean_up_tokenization_spaces=False) for g in summary_ids][0]\n",
    "            summaries.append(summary)\n",
    "    return summaries\n"
   ]
  },
  {
   "cell_type": "code",
   "execution_count": 12,
   "metadata": {},
   "outputs": [],
   "source": [
    "# Function to combine and summarize all the chunk summaries\n",
    "def summarize_combined_text(chunk_summaries):\n",
    "    combined_text = ' '.join(chunk_summaries)\n",
    "    final_summary = summarizer.summarize(combined_text, ratio=0.3)  # You can adjust the ratio as needed\n",
    "    return final_summary\n"
   ]
  },
  {
   "cell_type": "code",
   "execution_count": 13,
   "metadata": {},
   "outputs": [],
   "source": [
    "text = \"\"\"Appeal No. LXVI of 1949.\n",
    "Appeal from the High Court of judicature, Bombay, in a reference under section 66 of the Indian Income tax Act, 1022.\n",
    "K.M. Munshi (N. P. Nathvani, with him), for the appel lant. ' M.C. Setalvad, Attorney General for India (H. J. Umrigar, with him), for the respondent. 1950.\n",
    "May 26.\n",
    "The judgment of the Court was delivered by MEHR CHAND MAHAJAN J.\n",
    "This is an appeal against a judgment of the High Court of Judicature at Bombay in an income tax matter and it raises the question whether munici pal property tax and urban immoveable property tax payable under the relevant Bombay Acts are allowable deductions under section 9 (1) (iv) of the Indian Income tax Act.\n",
    "The assessee company is an investment company deriving its income from properties in the city of Bombay.\n",
    "For the assessment year 1940 41 the net income of the assessee under the head \"property\" was computed by the Income tax Officer in the sum of Rs. 6,21,764 after deducting from gross rents certain payments.\n",
    "The company had paid during the relevant year Rs. 1,22,675 as municipal property tax and Rs. 32,760 as urban property tax.\n",
    "Deduction of these two sums was claimed under the provisions of section 9 the Act.\n",
    "Out of the first item a deduction in the sum of Rs. 48,572 was allowed on the ground that this item represented tenants ' burdens paid by the assessee, otherwise the claim was disal lowed.\n",
    "The, appeals of the assessee to the Appellate As sistant Commissioner and to the Income tax Appellate Tribu nal were unsuccessful.\n",
    "The Tribunal, however, agreed to refer two questions of law to the High Court of Judicature at Bombay, namely, (1) Whether the municipal taxes paid by the applicant company are an allowable deduction under 555 the provisions of section 9 (1) (iv) of the Indian Income tax Act; (2) Whether the urban immoveable property taxes paid by the applicant company are an allowable deduction under section 9 (1) (iv) or under section 9 (1) (v) of the Indian Income tax Act.\n",
    "A supplementary reference was made covering a third question which was not raised before us and it is not there fore necessary to refer to it.\n",
    "The High Court answered all the three questions in the negative and hence this appeal.\n",
    "The question for our determination is whether the munic ipal property tax and urban immoveable property tax can be deducted as an allowance under clause (iv) of sub section (1) of section 9 of the Act.\n",
    "The decision of the point depends firstly on the construction of the language employed in sub clause (iv) of sub section (1) of section 9 of the Act, and secondly, on a finding as to the true nature and character of the liability of the owner under the relevant Bombay Acts for the payment of these taxes.\n",
    "Section 9 along with the relevant clause runs thus: (1) The tax shall be payable by an assessee under the head ' income from property ' in respect of the bona fide annual value of property consisting of any buildings or lands appurtenant thereto of Which he is the owner, . . subject to the following allowances, namely : (iv) where the property is subject to a mortgage or other capital charge, the amount of any interest on such mortgage or charge; where the property is subject to an annual charge not being a capital charge, the. amount of such charge; where the property is subject to a ground rent, the amount of such ground rent; and, where the property has been acquired, constructed, repaired, renewed or recon structed with borrowed capital, the amount of any interest payable on such capital; . . . \" It will be seen that clause (iv) consists of four sub clauses corresponding to the four deductions allowed 556 under the clause.\n",
    "Before the amending Act of 1939, clause (iv) contained only the first, third and fourth sub clauses.\n",
    "Under the first sub clause interest is deductible whether the amount borrowed on the security of the property was spent on the property or not.\n",
    "There is no question of any capital or other expenditure on the property.\n",
    "The expression \"capital charge\" in the sub clause cannot connote a charge on the capital, that is, the property assessed.\n",
    "That would be a redundancy as the opening words themselves clearly indicate that the charge is on the property.\n",
    "We are therefore of opinion that capital charge here could only mean a charge created for a capital sum, i.e., a charge to secure the discharge of a liability of a capital nature.\n",
    "In 1933 the Privy Council decided the case of Bijoy Singh.\n",
    "Dudhuria vs Commissioner of Income tax, Calcutta (1 ).\n",
    "It was not an assessment under section 9 but an assess ment on the general income of an assessee who was liable to pay maintenance for his step mother which had been charged on all his assets by a decree of Court.\n",
    "It was not a li ability voluntarily incurred by him but one cast on him by law.\n",
    "The Privy Council held that the amount paid by him in discharge of that liability formed no part of his real income and so should not be included in his assessment.\n",
    "Though the decision proceeded on the principle that the outgoings were not part of the assessee 's income at all, the framers of the amending Act of 1939 wanted, apparently, to extend the principle, so far as the assessment of property was concerned, even to cases where obligatory payments had to be made out of the assessee 's income from the property charged with such payments, and the second sub clause, namely, \"where the property is subject to an annual charge not being a capital charge, the amount of such charge\" was added.\n",
    "It is this sub clause which the appellant invokes in support of its claim to deduction of the municipal and urban, property taxes in the present case.\n",
    "In view of the opening words of the newly added sub clause, the expression \"capital charge\" also used therein cannot have reference to a charge on the property, and we think it must (1) I.L.R. 60 cal.\n",
    "557 be understood in the same sense as in sub clause (1); that is to say, the first sub clause having provided for deduc tion of interest where a capital sum is charged on the property, this sub clause provides for a deduction of annual sums so charged, such sums not being capital sums, the limiting words being intended to exclude cases where capital raised on the security of the property is made repayable in instalments.\n",
    "In Commissioner of Income tax, Bombay vs Mahomedbhoy Rowji (1), a Bench of the Bombay High Court considered the meaning of these words.\n",
    "As regards \"annual charge,\" Beau mont C.J. observed as follows : \"The words, I think, would cover a charge to secure an annual liability.\" Kania J., as he then was, said as follows : \"I do not see how a charge can be annual unless it means a charge in respect of a payment to be made annually.\" This construction of the words has been followed in the judgment under appeal.\n",
    "In Gappumal Kanhaiya Lal vs Commissioner of Income tax (2) (the connected appeal before us), the Bench of the Allahabad High Court agreed with the construction placed on these words in the Bombay case, i.e., the words \"annual charge\" mean a charge to secure an annual liability.\n",
    "It is therefore clear that there is no conflict of judicial deci sions as to the meaning of the phrase \"annual charge\" occur ring in section 3 (1) (iv) and the meaning given is the natural meaning of these words.\n",
    "As to the phrase \"capital charge\", Beaumont C.J. in the case above referred to took the view that the words mean a charge on capital.\n",
    "Kania J., however, took a different view and observed that he was not prepared to accept the sugges tion that a document which provides for a certain payment to be made monthly or annually and charged on immoveable property or the estate of an individual becomes a capital charge.\n",
    "In the Allahabad judgment under appeal these (1) I.L.R. (2) I.L.R. 1944 All.\n",
    "558 words were considered as not meaning a charge on capital.\n",
    "It was said that if an annual charge means a charge to secure the discharge of an annual liability, then, capital charge means a charge to secure the discharge of a liability of a capital nature.\n",
    "We think this construction is a natu ral construction of the section and is right.\n",
    "The determination of the point whether the taxes in dispute fall within the ambit of the phrase \"annual charge not being a capital charge\" depends on the provisions of the statutes under which they are levied.\n",
    "Section 143 of the City of Bombay Municipal Act, 1888, authorises the levy of a general tax on all buildings and lands in the city.\n",
    "The primary responsibility to pay this property tax is on the lessor (vide section 146 of the Act).\n",
    "In order to assess the tax provision has been made for the determination of the annual rateable value of the building in section 154.\n",
    "Section 156 provides for the maintenance of an assessment book in which entries have to be made every official year of all buildings in the city, their rateable value, the names of persons primarily liable for payment of the property tax on such buildings and of the amount for which each building has been assessed.\n",
    "Section 167 lays down that the assess ment book need not be prepared every official year but public notices shall be given in accordance with sections 160 to 162 every year and the provisions o+ the said sec tions and of sections 163 and 167 shall be applicable each year.\n",
    "These sections lay down a procedure for hearing objections and complaints against entries in the assessment book.\n",
    "From these provisions it is clear ' that the liabil ity for the tax is determined at the beginning of each official year and the tax is an annual one.\n",
    "It recurs from year to year.\n",
    "Sections 143to 168 concern themselves with the imposition, liability and assessment of the tax for the year.\n",
    "The amount of the tax for the year and the liability for its payment having been determined, the Act then pre scribes for its collection in the chapter \"The collection of taxes.\n",
    "\" Section 197 provides that each of the property taxes shall be payable in 559 advance in half yearly instalments on each first day of April and each first day of October.\n",
    "The provision as to half yearly instalment necessarily connotes an annual li ability.\n",
    "In other words, it means that the annual liability can be discharged by half yearly payments.\n",
    "Procedure has also been prescribed for recovery of the instalments by presentment of a bill, a notice of demand and then distress, and sale.\n",
    "Finally section 212 provides as follows : \"Property taxes due under this Act in respect of any building or land shall, subject to the prior payment of the land revenue, if any, due to the provincial ,Government thereupon, be a first charge . . upon the said build ing or land . \" It creates a statutory charge on the building.\n",
    "Urban immove able property tax is leviable under section 22 of Part VI of the Bombay Finance Act, 1932,on the annual letting value of the property.\n",
    "The duty to collect the tax is laid on the municipality and it does so in the same manner as in the case of the municipal property tax.\n",
    "Section 24 (2) (b) is in terms similar to section 212 of the Bombay Municipal Act.\n",
    "It makes the land or the building security for the payment of this tax also.\n",
    "For the purposes of section 9 of the Indian Income tax Act both these taxes, namely, the munici pal property tax as well as the urban immoveable property tax are of the same character and stand on the same foot ing.\n",
    "Mr. Munshi, the learned counsel for the appellant con tended that both the taxes are assessed on the annual value of the land or the building and are annual taxes, although it may be that they are collected at intervals of six months for the sake of convenience, that the income tax itself is assessed on an annual basis, that in allowing deductions all payments made or all liabilities incurred during the previ ous year of assessment should be allowed and that the taxes in question fell clearly within the language of section 9 (1) (iv).\n",
    "The learned Attorney General, on the other hand, argued that although the taxes are assessed for the year the liability to pay them arises at the beginning 560 of each half year and unless a notice of demand is issued and a bill presented there is no liability to pay them and that till then no charge under section 212 of the Act could possibly arise and that the liability to pay being half yearly in advance, the charge is not an annual charge.\n",
    "It was also suggested that the taxes were a capital charge in the sense of the property being security for the payment.\n",
    "We are satisfied that the contentions raised by the learned Attorney General are not sound.\n",
    "It is apparent from the whole tenor of the two Bombay Acts that the taxes are in the nature of an annual levy on the property ' and are assessed on the annual value of the property each year.\n",
    "The annual liability can be discharged by half yearly instalments.\n",
    "The liability being an annual one and the property having been subjected to it, the provisions of clause (iv) of sub sec tion (1) of section 9 are immediately attracted.\n",
    "Great emphasis was laid on the word\"due\" used in section 212 of the Municipal Act and it was said that as the taxes do not become due under the Act unless the time for the payment arrives, no charge comes into existence till then and that the charge is not an annual charge.\n",
    "We do not think that this is a correct construction of section 212.\n",
    "The words \"property taxes due under this Act\" mean property taxes for which a person is liable under the Act.\n",
    "Taxes payable during the year have been made a charge on the property.\n",
    "The liability and the charge both co exist and are co exten sive.\n",
    "The provisions of the Act affording facilities for the discharge of the liability do not in any way affect their true nature and character.\n",
    "If the annual liability is not discharged in the manner laid down by section 197, can it be said that the property cannot be sold for recovery of the whole amount due for the year ? The answer to this query can only be in the affirmative, i.e., that the proper ty is liable to sale.\n",
    "In Commissioner of Income tax, Bombay vs Mahomedbhoy Rowji(1) Beaumont C.J., while rejecting the claim for the deduction of the taxes, placed reliance on (1) I.L.R. 561 section 9 (1) (v) which allows a deduction in respect of any sums paid on account of land revenue.\n",
    "It was observed that land revenue stands on the same footing as municipal taxes and that as the legislature made a special provision for deduction of sums payable in regard to land revenue but not in respect of sums paid on account of municipal taxes that circumstance indicated that the deduction was not allowable.\n",
    "For the same purpose reference was also made to the provi sions of section 10 which deal with business allowances and wherein deduction of any sum paid on account of land reve nue, local rates or municipal taxes has been allowed.\n",
    "In the concluding part of his judgment the learned Chief Jus tice said that it was not necessary for him to consider what the exact meaning of the words was and that it was suffi cient for him to say that it did not cover municipal taxes which are made a charge on the property under section 212 of the Bombay Municipal Act.\n",
    "Without determining the exact meaning of the words used by the statute it seems to us it was not possible to arrive at the conclusion that the taxes were not within the ambit of the clause.\n",
    "It is elementary that the primary duty of a Court is to give effect to the intention of the legislature as expressed in the words used by it and no outside consideration can be called in aid tO find that intention.\n",
    "Again reference to clause (v) of the section is not very helpful because land revenue is a charge of a paramount nature on all buildings and lands and that being so, a deduction in respect of the amount was mentioned in express terms.\n",
    "Municipal taxes, on the other hand, do not stand on the same footing as land revenue.\n",
    "The law as to them varies from province to province and they may not be necessarily a charge on property in all cases.\n",
    "The legis lature seems to have thought that so far as municipal taxes on property are concerned, if they fall within the ambit of clause (iv), deduction will be claimable in respect of them but not otherwise.\n",
    "The deductions allowed in section 10 under the head \"Income from business\" proceed on a different footing and a construction of section 9 with the aid of section 10 is apt to mislead.\n",
    "562 Kania J. in the above case in arriving at his conclusion was influenced by the consideration that these taxes were of a variable character, i.e., liable to be increased or re duced under the various provisions of the Municipal Act and that the charge was in the nature of a contingent charge.\n",
    "With great respect, it may be pointed out that all charges in a way may be or are of a variable and contingent na ture.\n",
    "If no default is made, no charge is ever enforceable and whenever there is a charge, it can be increased or reduced during the year either by payment or by additional borrowing.\n",
    "In Moss Empires Ltd. vs Inland Revenue Commissioners (1) it was held by the House of Lords that the fact that certain payments were contingent and variable in amount did not affect their character of being annual payments and that the word, \"annual\" must be taken to have the quality of being recurrent or being capable of recurrence.\n",
    "In Cunard 's Trustees vs Inland Revenue Commissioners (2) it was held that the payments were capable of being recur rent and were therefore annual payments within the meaning of schedule D, case III, rule 1 (1), even though they were not necessarily recurrent year by year and the fact that they varied in amount was immaterial.\n",
    "The learned Attorney General in view of these decisions did not support the view expressed by Kania J. Reliance was placed on a decision of the High Court of Madras in Mamad Keyi vs Commissioner of Income tax, Madras(3), in which moneys paid as urban immoveable property tax under the Bombay Finance Act were disallowed as inadmis sible under section 9 (1) (iv) or 9 (1) (v) of the Indian Income tax Act. 'This decision merely followed the view expressed in Commissioner of income tax, Bombay vs Mahomedb hoy Rowji (4)and was not arrived at on any independent or fresh reasoning and is not of much assistance in the deci sion of the case.\n",
    "The Allahabad High Court (1) (2) [1948] 1 A.E.R. 150. (3) I.L.R. (4) I.L.R. 563 in Gappumal Kanhaiya Lal vs Commissioner of Incometax (1) (the connected appeal) took a correct view of this matter and the reasoning given therein has our approval.\n",
    "The result is that this appeal is allowed and the two questions which were referred to the High Court by the Income tax Tribunal and cited above are answered in the affirmative.\n",
    "The appellants will have their costs in the appeal.\n",
    "Appeal allowed.\"\"\""
   ]
  },
  {
   "cell_type": "code",
   "execution_count": 14,
   "metadata": {},
   "outputs": [
    {
     "name": "stdout",
     "output_type": "stream",
     "text": [
      "Final Summary:\n",
      "It raises the question whether munici pal property tax and urban immoveable property tax payable under the relevant Bombay Acts are allowable deductions under section 9 (1) (iv) of the Indian Income tax Act. The assessee company is an investment company deriving its income from properties in the city of Bombay.\n",
      "For the assessment year 1940 41, the net income of the assessee under the head \"property\" was computed by the Income tax Officer in the sum of Rs. 6,21,764 after deducting from gross rents certain payments.\n",
      "The court held that the income from the property was not subject to the tax provisions of Section 9 (1) of the Income Tax Act and therefore the tax officer had no power to determine the amount of the tax payable.\n",
      "The appeal was filed by K.M. Munshi (N.P. Nathvani) and M.C. Setalvad, Attorney General for India (H.J. Umrigar) A company had paid during the relevant year Rs. 1,22,675 as municipal property tax and Rs. 32,760 as urban property tax.\n",
      "The Tribunal, however, agreed to refer two questions of law to the High Court of Judicature at Bombay, namely, (1) Whether the municipal taxes paid by .<n>the applicant company are an allowable deduction under section 555 of the provisions of section 9 (1) (iv) of the Indian Income tax Act; (2) Whether the urban immoveable property taxes paid for the applicant company .\n",
      "The question for our determination is whether the munic ipal property tax and urban immoveable property tax can be deducted as an allowance under clause (iv) of sub section (1) of section 9 of the Act. The decision of the point depends firstly on the construction of the language employed in sub clause and secondly, on a finding as to the true nature and character of the liability of the owner under the relevant Bombay Acts for the payment of these taxes.\n",
      "The court held that the tax shall be payable by an assessee under the head ' income from property' in respect of the bona fide annual value of property consisting of any buildings or lands appurtenant thereto of which he is the owner.\n",
      "The Court of Appeal has ruled that the principle that the outgoings were not part of the assessee's income at all should be extended to cases where obligatory payments had to be made out of the property charged with such payments .<n>The Court held that the second sub clause, \"where the property is subject to an annual charge not being a capital charge, the amount of such charge\" was added by the framers of the Act of 1939 and should be understood in the same way as the first sub clause having provided for the deduction of interest from the property.\n",
      "The Court also held that, in view of the opening words of the new sub clause in the Act, the expression \"capital charge\" also cannot have reference to a charge on the property, and we think it must (1) I.L.R. 60 cal.\n",
      "The sub clause provides for a deduction of annual sums so charged, such sums not being capital sums, the limiting words being intended to exclude cases where capital raised on the security of the property is made repayable in instalments.<n>In Commissioner of Income tax, Bombay vs Mahomedbhoy Rowji, a Bench of the Bombay High Court considered the meaning of these words.\n",
      "Kania J., however, took a different view and observed that he was not prepared to accept the sugges tion that a document which provides for a certain payment to be made monthly or annually and charged on immoveable property or the estate of an individual becomes a capital charge.<n>It was said that if an annual charge means a charge to secure the discharge of an annual liability, then, capital charge is a charge.\n",
      "The primary responsibility to pay this property tax is on the lessor (vide section 146 of the Act).<n>In order to assess the tax provision has been made for the determination of the annual rateable value of the building in section 154.\n",
      "Section 197 provides that each of the property taxes shall be payable in 559 advance in half yearly instalments on each first day.\n",
      "Section 24 (2) (b) of the Bombay Finance Act, 1932, provides: \"Property taxes due under this Act in respect of any building or land shall, subject to the prior payment of the land revenue, if any, due to the provincial government thereupon, be a first charge upon the said build ing or land\" Section 9 of the Indian Income tax Act provides for the tax to be collected on the annual value of the land or the building and are annual taxes, although it may be that they are collected at intervals of six months for the sake of convenience.\n",
      "The learned Attorney General, on the other hand, argued that although the taxes are assessed for the year the taxes in question fell clearly within the language of section 9 (1) (iv) of the Act. The Attorney General also argued that in allowing deductions all payments made or all liabilities incurred during the previ ous year of assessment should be allowed.\n",
      "The Bombay High Court has ruled that the tax liability on a property is an annual one and the property having been subjected to it is immediately attracted by the provisions of clause (iv) of sub sec tion (1) of section 9 of the Income Tax Act. The Court held that the contentions raised by the learned Attorney General are not sound.\n",
      "It was also suggested that the taxes were a capital charge in the sense of the property being security for the payment.\n",
      "It is apparent from the whole tenor of the two Bombay Acts that the Taxes are in the nature of an annual levy on the property ' and are assessed on the annual value of the Property each year.\n",
      "The words \"property taxes due under this Act\" mean property taxes for which a person is liable under the Act. Taxes payable during the year have been made a charge on the property.\n",
      "The provisions of the Act facilities for the discharge of the liability do not in any way affect their true nature and character.<n>If the annual liability is not discharged in the manner laid down by section 197, can it be said that the property cannot be sold for recovery of the whole amount due for the year?<n>The answer to this query can only be in the affirmative, i.e., that the proper ty is liable to sale.\n",
      "For the same purpose reference was also made to the provisions of section 10 of the Income Tax Act which deal with business allowances and wherein deduction of any sum paid on the account of land reve nue, local rates or municipal taxes has been allowed.\n",
      "The Bombay Municipal Act does not cover municipal taxes which are made to charge on the property under section 212 of the Act. In the case of Moss Empires Ltd. vs Inland Revenue, 562 Kania J.\n",
      "Reliance was placed on a decision of the High Court of Madras in Mamad Keyi vs Commissioner of Income tax, Madras (3) in which moneys paid as urban immoveable property tax under the Bombay Finance Act were disallowed as inadmissible under section 9 (1) (iv) or 9 (1) The Allahabad High Court has ruled that the Income Tax Tribunal's decision in the case of Gappumal Kanhaiya Lal vs Commissioner of Incometax (the connected appeal) was not based on any independent or fresh reasoning and was not of much assistance in the deci sion of the case.<n>The appellants will have their costs in the appeal.\n"
     ]
    }
   ],
   "source": [
    "# Generate summaries for each chunk\n",
    "chunks = preprocess_and_chunk(text)\n",
    "chunk_summaries = generate_summaries(chunks)\n",
    "\n",
    "# Combine and summarize all the chunk summaries\n",
    "final_summary = summarize_combined_text(chunk_summaries)\n",
    "\n",
    "# Print the final summary\n",
    "print(\"Final Summary:\")\n",
    "print(final_summary)"
   ]
  }
 ],
 "metadata": {
  "kernelspec": {
   "display_name": "Python 3",
   "language": "python",
   "name": "python3"
  },
  "language_info": {
   "codemirror_mode": {
    "name": "ipython",
    "version": 3
   },
   "file_extension": ".py",
   "mimetype": "text/x-python",
   "name": "python",
   "nbconvert_exporter": "python",
   "pygments_lexer": "ipython3",
   "version": "3.12.0"
  }
 },
 "nbformat": 4,
 "nbformat_minor": 2
}
