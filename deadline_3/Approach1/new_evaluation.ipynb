{
 "cells": [
  {
   "cell_type": "code",
   "execution_count": 1,
   "metadata": {},
   "outputs": [
    {
     "name": "stdout",
     "output_type": "stream",
     "text": [
      "Requirement already satisfied: rouge in c:\\python312\\lib\\site-packages (1.0.1)\n",
      "Requirement already satisfied: six in c:\\users\\omegh\\appdata\\roaming\\python\\python312\\site-packages (from rouge) (1.16.0)\n"
     ]
    },
    {
     "name": "stderr",
     "output_type": "stream",
     "text": [
      "\n",
      "[notice] A new release of pip is available: 23.2.1 -> 24.0\n",
      "[notice] To update, run: python.exe -m pip install --upgrade pip\n"
     ]
    }
   ],
   "source": [
    "!pip install rouge"
   ]
  },
  {
   "cell_type": "code",
   "execution_count": 2,
   "metadata": {},
   "outputs": [
    {
     "name": "stdout",
     "output_type": "stream",
     "text": [
      "ROUGE-1 Precision: 0.2526\n",
      "ROUGE-1 Recall: 0.6618\n",
      "ROUGE-1 F1 Score: 0.3574\n",
      "\n",
      "ROUGE-2 Precision: 0.1236\n",
      "ROUGE-2 Recall: 0.4049\n",
      "ROUGE-2 F1 Score: 0.1836\n",
      "\n",
      "ROUGE-L Precision: 0.2328\n",
      "ROUGE-L Recall: 0.6112\n",
      "ROUGE-L F1 Score: 0.3294\n"
     ]
    }
   ],
   "source": [
    "import os\n",
    "from rouge import Rouge\n",
    "\n",
    "rouge = Rouge()\n",
    "\n",
    "new_summary_folder = 'New_summary'\n",
    "old_summary_folder = 'Old_summary'\n",
    "\n",
    "def read_summary(file_path):\n",
    "    with open(file_path, 'r') as file:\n",
    "        return file.read()\n",
    "\n",
    "new_files = os.listdir(new_summary_folder)\n",
    "old_files = os.listdir(old_summary_folder)\n",
    "\n",
    "rouge_1_scores = {'precision': [], 'recall': [], 'f1': []}\n",
    "rouge_2_scores = {'precision': [], 'recall': [], 'f1': []}\n",
    "rouge_l_scores = {'precision': [], 'recall': [], 'f1': []}\n",
    "\n",
    "for new_file in new_files:\n",
    "    corresponding_old_file = os.path.join(old_summary_folder, new_file)\n",
    "    if os.path.isfile(corresponding_old_file):\n",
    "        llm_summary = read_summary(os.path.join(new_summary_folder, new_file))\n",
    "        reference_summary = read_summary(corresponding_old_file)\n",
    "        \n",
    "        scores = rouge.get_scores(llm_summary, reference_summary)\n",
    "        rouge_1_scores['precision'].append(scores[0]['rouge-1']['p'])\n",
    "        rouge_1_scores['recall'].append(scores[0]['rouge-1']['r'])\n",
    "        rouge_1_scores['f1'].append(scores[0]['rouge-1']['f'])\n",
    "        \n",
    "        rouge_2_scores['precision'].append(scores[0]['rouge-2']['p'])\n",
    "        rouge_2_scores['recall'].append(scores[0]['rouge-2']['r'])\n",
    "        rouge_2_scores['f1'].append(scores[0]['rouge-2']['f'])\n",
    "        \n",
    "        rouge_l_scores['precision'].append(scores[0]['rouge-l']['p'])\n",
    "        rouge_l_scores['recall'].append(scores[0]['rouge-l']['r'])\n",
    "        rouge_l_scores['f1'].append(scores[0]['rouge-l']['f'])\n",
    "\n",
    "def calculate_average(scores):\n",
    "    return sum(scores) / len(scores)\n",
    "\n",
    "avg_rouge_1_precision = calculate_average(rouge_1_scores['precision'])\n",
    "avg_rouge_1_recall = calculate_average(rouge_1_scores['recall'])\n",
    "avg_rouge_1_f1 = calculate_average(rouge_1_scores['f1'])\n",
    "\n",
    "avg_rouge_2_precision = calculate_average(rouge_2_scores['precision'])\n",
    "avg_rouge_2_recall = calculate_average(rouge_2_scores['recall'])\n",
    "avg_rouge_2_f1 = calculate_average(rouge_2_scores['f1'])\n",
    "\n",
    "avg_rouge_l_precision = calculate_average(rouge_l_scores['precision'])\n",
    "avg_rouge_l_recall = calculate_average(rouge_l_scores['recall'])\n",
    "avg_rouge_l_f1 = calculate_average(rouge_l_scores['f1'])\n",
    "\n",
    "print(\"ROUGE-1 Precision: {:.4f}\".format(avg_rouge_1_precision))\n",
    "print(\"ROUGE-1 Recall: {:.4f}\".format(avg_rouge_1_recall))\n",
    "print(\"ROUGE-1 F1 Score: {:.4f}\".format(avg_rouge_1_f1))\n",
    "print()\n",
    "print(\"ROUGE-2 Precision: {:.4f}\".format(avg_rouge_2_precision))\n",
    "print(\"ROUGE-2 Recall: {:.4f}\".format(avg_rouge_2_recall))\n",
    "print(\"ROUGE-2 F1 Score: {:.4f}\".format(avg_rouge_2_f1))\n",
    "print()\n",
    "print(\"ROUGE-L Precision: {:.4f}\".format(avg_rouge_l_precision))\n",
    "print(\"ROUGE-L Recall: {:.4f}\".format(avg_rouge_l_recall))\n",
    "print(\"ROUGE-L F1 Score: {:.4f}\".format(avg_rouge_l_f1))\n"
   ]
  }
 ],
 "metadata": {
  "kernelspec": {
   "display_name": "Python 3",
   "language": "python",
   "name": "python3"
  },
  "language_info": {
   "codemirror_mode": {
    "name": "ipython",
    "version": 3
   },
   "file_extension": ".py",
   "mimetype": "text/x-python",
   "name": "python",
   "nbconvert_exporter": "python",
   "pygments_lexer": "ipython3",
   "version": "3.12.0"
  }
 },
 "nbformat": 4,
 "nbformat_minor": 2
}
