{
 "cells": [
  {
   "cell_type": "code",
   "execution_count": 1,
   "metadata": {},
   "outputs": [
    {
     "name": "stdout",
     "output_type": "stream",
     "text": [
      "CUDA Available: True\n",
      "Number of CUDA devices: 1\n",
      "Number of CUDA devices: 1\n",
      "CUDA Device 0: NVIDIA GeForce RTX 3060 Laptop GPU\n",
      "Switched to GPU\n",
      "Using device: cuda\n"
     ]
    }
   ],
   "source": [
    "import os\n",
    "import torch\n",
    "\n",
    "print(\"CUDA Available:\", torch.cuda.is_available())\n",
    "print(\"Number of CUDA devices:\", torch.cuda.device_count())\n",
    "\n",
    "print(\"Number of CUDA devices:\", torch.cuda.device_count())\n",
    "for i in range(torch.cuda.device_count()):\n",
    "    print(\"CUDA Device {}: {}\".format(i, torch.cuda.get_device_name(i)))\n",
    "\n",
    "if torch.cuda.is_available():\n",
    "   \n",
    "    torch.cuda.set_device(0)\n",
    "    device = torch.device(\"cuda\")\n",
    "    print(\"Switched to GPU\")\n",
    "else:\n",
    "    # Use CPU if no GPU is available\n",
    "    device = torch.device(\"cpu\")\n",
    "    print(\"No GPU available, using CPU\")\n",
    "\n",
    "print(\"Using device:\", device)\n"
   ]
  },
  {
   "cell_type": "code",
   "execution_count": 22,
   "metadata": {},
   "outputs": [],
   "source": [
    "from transformers import AutoModelForSeq2SeqLM, AutoTokenizer\n",
    "\n",
    "model_path = 'saved_model'\n",
    "model = AutoModelForSeq2SeqLM.from_pretrained(model_path)\n",
    "tokenizer = AutoTokenizer.from_pretrained(model_path, use_fast=False)\n"
   ]
  },
  {
   "cell_type": "code",
   "execution_count": 12,
   "metadata": {},
   "outputs": [],
   "source": [
    "import re\n",
    "\n",
    "def chunk_document_flexible(text, max_chunk_size):\n",
    "    chunks = []\n",
    "    current_chunk = []\n",
    "    current_size = 0\n",
    "\n",
    "    sentences = re.split(r'(?<!\\w\\.\\w.)(?<![A-Z][a-z]\\.)(?<=\\.|\\?)\\s', text)  \n",
    "    for sentence in sentences:\n",
    "        sentence_size = len(sentence.split())\n",
    "        if current_size + sentence_size > max_chunk_size and current_chunk:\n",
    "            chunks.append(' '.join(current_chunk))\n",
    "            current_chunk = []\n",
    "            current_size = 0\n",
    "        current_chunk.append(sentence)\n",
    "        current_size += sentence_size\n",
    "    if current_chunk:\n",
    "        chunks.append(' '.join(current_chunk))\n",
    "\n",
    "    return chunks\n"
   ]
  },
  {
   "cell_type": "code",
   "execution_count": 5,
   "metadata": {},
   "outputs": [],
   "source": [
    "text ='''Appeal No. LXVI of 1949.\n",
    "Appeal from the High Court of judicature, Bombay, in a reference under section 66 of the Indian Income tax Act, 1022.\n",
    "K.M. Munshi (N. P. Nathvani, with him), for the appel lant. ' M.C. Setalvad, Attorney General for India (H. J. Umrigar, with him), for the respondent. 1950.\n",
    "May 26.\n",
    "The judgment of the Court was delivered by MEHR CHAND MAHAJAN J.\n",
    "This is an appeal against a judgment of the High Court of Judicature at Bombay in an income tax matter and it raises the question whether munici pal property tax and urban immoveable property tax payable under the relevant Bombay Acts are allowable deductions under section 9 (1) (iv) of the Indian Income tax Act.\n",
    "The assessee company is an investment company deriving its income from properties in the city of Bombay.\n",
    "For the assessment year 1940 41 the net income of the assessee under the head \"property\" was computed by the Income tax Officer in the sum of Rs. 6,21,764 after deducting from gross rents certain payments.\n",
    "The company had paid during the relevant year Rs. 1,22,675 as municipal property tax and Rs. 32,760 as urban property tax.\n",
    "Deduction of these two sums was claimed under the provisions of section 9 the Act.\n",
    "Out of the first item a deduction in the sum of Rs. 48,572 was allowed on the ground that this item represented tenants ' burdens paid by the assessee, otherwise the claim was disal lowed.\n",
    "The, appeals of the assessee to the Appellate As sistant Commissioner and to the Income tax Appellate Tribu nal were unsuccessful.\n",
    "The Tribunal, however, agreed to refer two questions of law to the High Court of Judicature at Bombay, namely, (1) Whether the municipal taxes paid by the applicant company are an allowable deduction under 555 the provisions of section 9 (1) (iv) of the Indian Income tax Act; (2) Whether the urban immoveable property taxes paid by the applicant company are an allowable deduction under section 9 (1) (iv) or under section 9 (1) (v) of the Indian Income tax Act.\n",
    "A supplementary reference was made covering a third question which was not raised before us and it is not there fore necessary to refer to it.\n",
    "The High Court answered all the three questions in the negative and hence this appeal.\n",
    "The question for our determination is whether the munic ipal property tax and urban immoveable property tax can be deducted as an allowance under clause (iv) of sub section (1) of section 9 of the Act.\n",
    "The decision of the point depends firstly on the construction of the language employed in sub clause (iv) of sub section (1) of section 9 of the Act, and secondly, on a finding as to the true nature and character of the liability of the owner under the relevant Bombay Acts for the payment of these taxes.\n",
    "Section 9 along with the relevant clause runs thus: (1) The tax shall be payable by an assessee under the head ' income from property ' in respect of the bona fide annual value of property consisting of any buildings or lands appurtenant thereto of Which he is the owner, . . subject to the following allowances, namely : (iv) where the property is subject to a mortgage or other capital charge, the amount of any interest on such mortgage or charge; where the property is subject to an annual charge not being a capital charge, the. amount of such charge; where the property is subject to a ground rent, the amount of such ground rent; and, where the property has been acquired, constructed, repaired, renewed or recon structed with borrowed capital, the amount of any interest payable on such capital; . . . \" It will be seen that clause (iv) consists of four sub clauses corresponding to the four deductions allowed 556 under the clause.\n",
    "Before the amending Act of 1939, clause (iv) contained only the first, third and fourth sub clauses.\n",
    "Under the first sub clause interest is deductible whether the amount borrowed on the security of the property was spent on the property or not.\n",
    "There is no question of any capital or other expenditure on the property.\n",
    "The expression \"capital charge\" in the sub clause cannot connote a charge on the capital, that is, the property assessed.\n",
    "That would be a redundancy as the opening words themselves clearly indicate that the charge is on the property.\n",
    "We are therefore of opinion that capital charge here could only mean a charge created for a capital sum, i.e., a charge to secure the discharge of a liability of a capital nature.\n",
    "In 1933 the Privy Council decided the case of Bijoy Singh.\n",
    "Dudhuria vs Commissioner of Income tax, Calcutta (1 ).\n",
    "It was not an assessment under section 9 but an assess ment on the general income of an assessee who was liable to pay maintenance for his step mother which had been charged on all his assets by a decree of Court.\n",
    "It was not a li ability voluntarily incurred by him but one cast on him by law.\n",
    "The Privy Council held that the amount paid by him in discharge of that liability formed no part of his real income and so should not be included in his assessment.\n",
    "Though the decision proceeded on the principle that the outgoings were not part of the assessee 's income at all, the framers of the amending Act of 1939 wanted, apparently, to extend the principle, so far as the assessment of property was concerned, even to cases where obligatory payments had to be made out of the assessee 's income from the property charged with such payments, and the second sub clause, namely, \"where the property is subject to an annual charge not being a capital charge, the amount of such charge\" was added.\n",
    "It is this sub clause which the appellant invokes in support of its claim to deduction of the municipal and urban, property taxes in the present case.\n",
    "In view of the opening words of the newly added sub clause, the expression \"capital charge\" also used therein cannot have reference to a charge on the property, and we think it must (1) I.L.R. 60 cal.\n",
    "557 be understood in the same sense as in sub clause (1); that is to say, the first sub clause having provided for deduc tion of interest where a capital sum is charged on the property, this sub clause provides for a deduction of annual sums so charged, such sums not being capital sums, the limiting words being intended to exclude cases where capital raised on the security of the property is made repayable in instalments.\n",
    "In Commissioner of Income tax, Bombay vs Mahomedbhoy Rowji (1), a Bench of the Bombay High Court considered the meaning of these words.\n",
    "As regards \"annual charge,\" Beau mont C.J. observed as follows : \"The words, I think, would cover a charge to secure an annual liability.\" Kania J., as he then was, said as follows : \"I do not see how a charge can be annual unless it means a charge in respect of a payment to be made annually.\" This construction of the words has been followed in the judgment under appeal.\n",
    "In Gappumal Kanhaiya Lal vs Commissioner of Income tax (2) (the connected appeal before us), the Bench of the Allahabad High Court agreed with the construction placed on these words in the Bombay case, i.e., the words \"annual charge\" mean a charge to secure an annual liability.\n",
    "It is therefore clear that there is no conflict of judicial deci sions as to the meaning of the phrase \"annual charge\" occur ring in section 3 (1) (iv) and the meaning given is the natural meaning of these words.\n",
    "As to the phrase \"capital charge\", Beaumont C.J. in the case above referred to took the view that the words mean a charge on capital.\n",
    "Kania J., however, took a different view and observed that he was not prepared to accept the sugges tion that a document which provides for a certain payment to be made monthly or annually and charged on immoveable property or the estate of an individual becomes a capital charge.\n",
    "In the Allahabad judgment under appeal these (1) I.L.R. (2) I.L.R. 1944 All.\n",
    "558 words were considered as not meaning a charge on capital.\n",
    "It was said that if an annual charge means a charge to secure the discharge of an annual liability, then, capital charge means a charge to secure the discharge of a liability of a capital nature.\n",
    "We think this construction is a natu ral construction of the section and is right.\n",
    "The determination of the point whether the taxes in dispute fall within the ambit of the phrase \"annual charge not being a capital charge\" depends on the provisions of the statutes under which they are levied.\n",
    "Section 143 of the City of Bombay Municipal Act, 1888, authorises the levy of a general tax on all buildings and lands in the city.\n",
    "The primary responsibility to pay this property tax is on the lessor (vide section 146 of the Act).\n",
    "In order to assess the tax provision has been made for the determination of the annual rateable value of the building in section 154.\n",
    "Section 156 provides for the maintenance of an assessment book in which entries have to be made every official year of all buildings in the city, their rateable value, the names of persons primarily liable for payment of the property tax on such buildings and of the amount for which each building has been assessed.\n",
    "Section 167 lays down that the assess ment book need not be prepared every official year but public notices shall be given in accordance with sections 160 to 162 every year and the provisions o+ the said sec tions and of sections 163 and 167 shall be applicable each year.\n",
    "These sections lay down a procedure for hearing objections and complaints against entries in the assessment book.\n",
    "From these provisions it is clear ' that the liabil ity for the tax is determined at the beginning of each official year and the tax is an annual one.\n",
    "It recurs from year to year.\n",
    "Sections 143to 168 concern themselves with the imposition, liability and assessment of the tax for the year.\n",
    "The amount of the tax for the year and the liability for its payment having been determined, the Act then pre scribes for its collection in the chapter \"The collection of taxes.\n",
    "\" Section 197 provides that each of the property taxes shall be payable in 559 advance in half yearly instalments on each first day of April and each first day of October.\n",
    "The provision as to half yearly instalment necessarily connotes an annual li ability.\n",
    "In other words, it means that the annual liability can be discharged by half yearly payments.\n",
    "Procedure has also been prescribed for recovery of the instalments by presentment of a bill, a notice of demand and then distress, and sale.\n",
    "Finally section 212 provides as follows : \"Property taxes due under this Act in respect of any building or land shall, subject to the prior payment of the land revenue, if any, due to the provincial ,Government thereupon, be a first charge . . upon the said build ing or land . \" It creates a statutory charge on the building.\n",
    "Urban immove able property tax is leviable under section 22 of Part VI of the Bombay Finance Act, 1932,on the annual letting value of the property.\n",
    "The duty to collect the tax is laid on the municipality and it does so in the same manner as in the case of the municipal property tax.\n",
    "Section 24 (2) (b) is in terms similar to section 212 of the Bombay Municipal Act.\n",
    "It makes the land or the building security for the payment of this tax also.\n",
    "For the purposes of section 9 of the Indian Income tax Act both these taxes, namely, the munici pal property tax as well as the urban immoveable property tax are of the same character and stand on the same foot ing.\n",
    "Mr. Munshi, the learned counsel for the appellant con tended that both the taxes are assessed on the annual value of the land or the building and are annual taxes, although it may be that they are collected at intervals of six months for the sake of convenience, that the income tax itself is assessed on an annual basis, that in allowing deductions all payments made or all liabilities incurred during the previ ous year of assessment should be allowed and that the taxes in question fell clearly within the language of section 9 (1) (iv).\n",
    "The learned Attorney General, on the other hand, argued that although the taxes are assessed for the year the liability to pay them arises at the beginning 560 of each half year and unless a notice of demand is issued and a bill presented there is no liability to pay them and that till then no charge under section 212 of the Act could possibly arise and that the liability to pay being half yearly in advance, the charge is not an annual charge.\n",
    "It was also suggested that the taxes were a capital charge in the sense of the property being security for the payment.\n",
    "We are satisfied that the contentions raised by the learned Attorney General are not sound.\n",
    "It is apparent from the whole tenor of the two Bombay Acts that the taxes are in the nature of an annual levy on the property ' and are assessed on the annual value of the property each year.\n",
    "The annual liability can be discharged by half yearly instalments.\n",
    "The liability being an annual one and the property having been subjected to it, the provisions of clause (iv) of sub sec tion (1) of section 9 are immediately attracted.\n",
    "Great emphasis was laid on the word\"due\" used in section 212 of the Municipal Act and it was said that as the taxes do not become due under the Act unless the time for the payment arrives, no charge comes into existence till then and that the charge is not an annual charge.\n",
    "We do not think that this is a correct construction of section 212.\n",
    "The words \"property taxes due under this Act\" mean property taxes for which a person is liable under the Act.\n",
    "Taxes payable during the year have been made a charge on the property.\n",
    "The liability and the charge both co exist and are co exten sive.\n",
    "The provisions of the Act affording facilities for the discharge of the liability do not in any way affect their true nature and character.\n",
    "If the annual liability is not discharged in the manner laid down by section 197, can it be said that the property cannot be sold for recovery of the whole amount due for the year ? The answer to this query can only be in the affirmative, i.e., that the proper ty is liable to sale.\n",
    "In Commissioner of Income tax, Bombay vs Mahomedbhoy Rowji(1) Beaumont C.J., while rejecting the claim for the deduction of the taxes, placed reliance on (1) I.L.R. 561 section 9 (1) (v) which allows a deduction in respect of any sums paid on account of land revenue.\n",
    "It was observed that land revenue stands on the same footing as municipal taxes and that as the legislature made a special provision for deduction of sums payable in regard to land revenue but not in respect of sums paid on account of municipal taxes that circumstance indicated that the deduction was not allowable.\n",
    "For the same purpose reference was also made to the provi sions of section 10 which deal with business allowances and wherein deduction of any sum paid on account of land reve nue, local rates or municipal taxes has been allowed.\n",
    "In the concluding part of his judgment the learned Chief Jus tice said that it was not necessary for him to consider what the exact meaning of the words was and that it was suffi cient for him to say that it did not cover municipal taxes which are made a charge on the property under section 212 of the Bombay Municipal Act.\n",
    "Without determining the exact meaning of the words used by the statute it seems to us it was not possible to arrive at the conclusion that the taxes were not within the ambit of the clause.\n",
    "It is elementary that the primary duty of a Court is to give effect to the intention of the legislature as expressed in the words used by it and no outside consideration can be called in aid tO find that intention.\n",
    "Again reference to clause (v) of the section is not very helpful because land revenue is a charge of a paramount nature on all buildings and lands and that being so, a deduction in respect of the amount was mentioned in express terms.\n",
    "Municipal taxes, on the other hand, do not stand on the same footing as land revenue.\n",
    "The law as to them varies from province to province and they may not be necessarily a charge on property in all cases.\n",
    "The legis lature seems to have thought that so far as municipal taxes on property are concerned, if they fall within the ambit of clause (iv), deduction will be claimable in respect of them but not otherwise.\n",
    "The deductions allowed in section 10 under the head \"Income from business\" proceed on a different footing and a construction of section 9 with the aid of section 10 is apt to mislead.\n",
    "562 Kania J. in the above case in arriving at his conclusion was influenced by the consideration that these taxes were of a variable character, i.e., liable to be increased or re duced under the various provisions of the Municipal Act and that the charge was in the nature of a contingent charge.\n",
    "With great respect, it may be pointed out that all charges in a way may be or are of a variable and contingent na ture.\n",
    "If no default is made, no charge is ever enforceable and whenever there is a charge, it can be increased or reduced during the year either by payment or by additional borrowing.\n",
    "In Moss Empires Ltd. vs Inland Revenue Commissioners (1) it was held by the House of Lords that the fact that certain payments were contingent and variable in amount did not affect their character of being annual payments and that the word, \"annual\" must be taken to have the quality of being recurrent or being capable of recurrence.\n",
    "In Cunard 's Trustees vs Inland Revenue Commissioners (2) it was held that the payments were capable of being recur rent and were therefore annual payments within the meaning of schedule D, case III, rule 1 (1), even though they were not necessarily recurrent year by year and the fact that they varied in amount was immaterial.\n",
    "The learned Attorney General in view of these decisions did not support the view expressed by Kania J. Reliance was placed on a decision of the High Court of Madras in Mamad Keyi vs Commissioner of Income tax, Madras(3), in which moneys paid as urban immoveable property tax under the Bombay Finance Act were disallowed as inadmis sible under section 9 (1) (iv) or 9 (1) (v) of the Indian Income tax Act. 'This decision merely followed the view expressed in Commissioner of income tax, Bombay vs Mahomedb hoy Rowji (4)and was not arrived at on any independent or fresh reasoning and is not of much assistance in the deci sion of the case.\n",
    "The Allahabad High Court (1) (2) [1948] 1 A.E.R. 150. (3) I.L.R. (4) I.L.R. 563 in Gappumal Kanhaiya Lal vs Commissioner of Incometax (1) (the connected appeal) took a correct view of this matter and the reasoning given therein has our approval.\n",
    "The result is that this appeal is allowed and the two questions which were referred to the High Court by the Income tax Tribunal and cited above are answered in the affirmative.\n",
    "The appellants will have their costs in the appeal.\n",
    "Appeal allowed.'''\n"
   ]
  },
  {
   "cell_type": "code",
   "execution_count": 19,
   "metadata": {},
   "outputs": [],
   "source": [
    "def generate_summary(text):\n",
    "    try:\n",
    "        inputs = tokenizer.encode(\"summarize: \" + text, return_tensors=\"pt\", max_length=512, truncation=True)\n",
    "        outputs = model.generate(inputs, max_length=150, min_length=40, length_penalty=2.0, num_beams=4, early_stopping=True)\n",
    "        return tokenizer.decode(outputs[0], skip_special_tokens=True)\n",
    "    except Exception as e:\n",
    "        print(f\"Failed to generate summary for input: {text[:50]}... Error: {str(e)}\")\n",
    "        return None  \n"
   ]
  },
  {
   "cell_type": "code",
   "execution_count": 20,
   "metadata": {},
   "outputs": [],
   "source": [
    "\n",
    "max_chunk_size = 950 \n",
    "\n",
    "chunks = chunk_document_flexible(text, max_chunk_size)\n",
    "\n",
    "def generate_chunk_summaries(chunks, saved_model):\n",
    "    summaries = []\n",
    "    for chunk in chunks:\n",
    "        \n",
    "        summary = generate_summary(chunk)\n",
    "        summaries.append(summary)\n",
    "    return ' '.join(summaries)\n",
    "saved_model='saved_model'\n",
    "chunk_summaries = generate_chunk_summaries(chunks, saved_model)\n"
   ]
  },
  {
   "cell_type": "code",
   "execution_count": 21,
   "metadata": {},
   "outputs": [
    {
     "name": "stdout",
     "output_type": "stream",
     "text": [
      "Appeal from the High Court of judicature, Bombay, in a reference under section 66 of the Indian Income tax Act, 1022. This is an appeal against a judgment of the High Court of Judicature at Bombay in an income tax matter and it raises the question whether munici pal property tax and urban immoveable property tax payable under the relevant Bombay Acts are allowable deductions under section 9 (1) (iv) of the Indian Income tax Act. The Tribunal, however, agreed to refer two questions of law to the High Court of Judicature at Bombay, namely, (1) Whether the municipal taxes paid by the applicant company are an allowable deduction under 555 the provisions of section 9 (1) (iv) of the Indian Income tax Act; (2) observed as follows : \"The words, I think, would cover a charge to secure an annual liability.\" Kania J., as he then was, said as follows : \"I do not see how a charge can be annual unless it means a charge in respect of a payment to be made annually.\" This construction of the words has been followed in the judgment under appeal. In Gappumal Kanhaiya Lal vs Commissioner of Income tax (2) (the connected appeal before us), the Bench of the Allahabad High Court agreed with the construction placed on these words in the Bombay case, i.e., the words \"annual charge\" mean a charge to secure an annual liability. Munshi, the learned counsel for the appellant con tended that both the taxes are assessed on the annual value of the land or the building and are annual taxes, although it may be that they are collected at intervals of six months for the sake of convenience, that the income tax itself is assessed on an annual basis, that in allowing deductions all payments made or all liabilities incurred during the previ ous year of assessment should be allowed and that the taxes in question fell clearly within the language of section 9 (1) (iv). The learned Attorney General, on the other hand, argued that although the taxes are assessed for the year the liability to pay them arises at the beginning 560 of each half year and unless a notice of demand is issued and a vs Inland Revenue Commissioners (1) it was held by the House of Lords that the fact that certain payments were contingent and variable in amount did not affect their character of being annual payments and that the word, \"annual\" must be taken to have the quality of being recurrent or being capable of recurrence. In Cunard's Trustees vs Inland Revenue Commissioners (2) it was held that the payments were capable of being recur rent and were therefore annual payments within the meaning of schedule D, case III, rule 1 (1), even though they were not necessarily recurrent year by year and the fact that they varied in amount was immaterial\n"
     ]
    }
   ],
   "source": [
    "print(chunk_summaries)"
   ]
  },
  {
   "cell_type": "code",
   "execution_count": 18,
   "metadata": {},
   "outputs": [],
   "source": []
  },
  {
   "cell_type": "code",
   "execution_count": 3,
   "metadata": {},
   "outputs": [],
   "source": [
    "import re\n",
    "from transformers import AutoModelForSeq2SeqLM, AutoTokenizer\n",
    "\n",
    "def generate_chunked_summary(text, model_path, max_chunk_size=950):\n",
    "    try:\n",
    "        model = AutoModelForSeq2SeqLM.from_pretrained(model_path)\n",
    "        tokenizer = AutoTokenizer.from_pretrained(model_path, use_fast=False)\n",
    "        \n",
    "        def generate_summary(chunk):\n",
    "            inputs = tokenizer.encode(\"summarize: \" + chunk, return_tensors=\"pt\", max_length=512, truncation=True)\n",
    "            outputs = model.generate(inputs, max_length=150, min_length=40, length_penalty=2.0, num_beams=4, early_stopping=True)\n",
    "            return tokenizer.decode(outputs[0], skip_special_tokens=True)\n",
    "\n",
    "        def chunk_document_flexible(text, max_chunk_size):\n",
    "            chunks = []\n",
    "            current_chunk = []\n",
    "            current_size = 0\n",
    "\n",
    "            sentences = re.split(r'(?<!\\w\\.\\w.)(?<![A-Z][a-z]\\.)(?<=\\.|\\?)\\s', text)  # Split text into sentences\n",
    "            for sentence in sentences:\n",
    "                sentence_size = len(sentence.split())\n",
    "                if current_size + sentence_size > max_chunk_size and current_chunk:\n",
    "                    chunks.append(' '.join(current_chunk))\n",
    "                    current_chunk = []\n",
    "                    current_size = 0\n",
    "                current_chunk.append(sentence)\n",
    "                current_size += sentence_size\n",
    "            if current_chunk:\n",
    "                chunks.append(' '.join(current_chunk))\n",
    "\n",
    "            return chunks\n",
    "\n",
    "        # Generate summaries for each chunk\n",
    "        chunks = chunk_document_flexible(text, max_chunk_size)\n",
    "        summaries = [generate_summary(chunk) for chunk in chunks]\n",
    "\n",
    "        # Combine summaries\n",
    "        final_summary = ' '.join(summaries)\n",
    "\n",
    "        return final_summary\n",
    "\n",
    "    except Exception as e:\n",
    "        print(f\"Error: {str(e)}\")\n",
    "        return None\n"
   ]
  },
  {
   "cell_type": "code",
   "execution_count": 6,
   "metadata": {},
   "outputs": [],
   "source": [
    "\n",
    "model_path = 'saved_model'\n",
    "\n",
    "final_summary = generate_chunked_summary(text, model_path)"
   ]
  },
  {
   "cell_type": "code",
   "execution_count": 12,
   "metadata": {},
   "outputs": [
    {
     "data": {
      "text/plain": [
       "'Appeal from the High Court of judicature, Bombay, in a reference under section 66 of the Indian Income tax Act, 1022. This is an appeal against a judgment of the High Court of Judicature at Bombay in an income tax matter and it raises the question whether munici pal property tax and urban immoveable property tax payable under the relevant Bombay Acts are allowable deductions under section 9 (1) (iv) of the Indian Income tax Act. The Tribunal, however, agreed to refer two questions of law to the High Court of Judicature at Bombay, namely, (1) Whether the municipal taxes paid by the applicant company are an allowable deduction under 555 the provisions of section 9 (1) (iv) of the Indian Income tax Act; (2) observed as follows : \"The words, I think, would cover a charge to secure an annual liability.\" Kania J., as he then was, said as follows : \"I do not see how a charge can be annual unless it means a charge in respect of a payment to be made annually.\" This construction of the words has been followed in the judgment under appeal. In Gappumal Kanhaiya Lal vs Commissioner of Income tax (2) (the connected appeal before us), the Bench of the Allahabad High Court agreed with the construction placed on these words in the Bombay case, i.e., the words \"annual charge\" mean a charge to secure an annual liability. Munshi, the learned counsel for the appellant con tended that both the taxes are assessed on the annual value of the land or the building and are annual taxes, although it may be that they are collected at intervals of six months for the sake of convenience, that the income tax itself is assessed on an annual basis, that in allowing deductions all payments made or all liabilities incurred during the previ ous year of assessment should be allowed and that the taxes in question fell clearly within the language of section 9 (1) (iv). The learned Attorney General, on the other hand, argued that although the taxes are assessed for the year the liability to pay them arises at the beginning 560 of each half year and unless a notice of demand is issued and a vs Inland Revenue Commissioners (1) it was held by the House of Lords that the fact that certain payments were contingent and variable in amount did not affect their character of being annual payments and that the word, \"annual\" must be taken to have the quality of being recurrent or being capable of recurrence. In Cunard\\'s Trustees vs Inland Revenue Commissioners (2) it was held that the payments were capable of being recur rent and were therefore annual payments within the meaning of schedule D, case III, rule 1 (1), even though they were not necessarily recurrent year by year and the fact that they varied in amount was immaterial'"
      ]
     },
     "execution_count": 12,
     "metadata": {},
     "output_type": "execute_result"
    }
   ],
   "source": [
    "final_summary"
   ]
  },
  {
   "cell_type": "code",
   "execution_count": 15,
   "metadata": {},
   "outputs": [
    {
     "name": "stderr",
     "output_type": "stream",
     "text": [
      "c:\\Users\\dell\\AppData\\Local\\Programs\\Python\\Python38\\lib\\site-packages\\transformers\\models\\marian\\tokenization_marian.py:194: UserWarning: Recommended: pip install sacremoses.\n",
      "  warnings.warn(\"Recommended: pip install sacremoses.\")\n",
      "c:\\Users\\dell\\AppData\\Local\\Programs\\Python\\Python38\\lib\\site-packages\\transformers\\generation\\utils.py:1313: UserWarning: Using `max_length`'s default (512) to control the generation length. This behaviour is deprecated and will be removed from the config in v5 of Transformers -- we recommend using `max_new_tokens` to control the maximum length of the generation.\n",
      "  warnings.warn(\n"
     ]
    },
    {
     "name": "stdout",
     "output_type": "stream",
     "text": [
      "English to Hindi (Chunked Translation): द न्यू यॉर्क टाइम्स्‌ (अंग्रेज़ी) के अनुसार, भारत के एक प्रमुख न्यायालय से अपील की गई है । हाँ, यह एक वार्षिकी के रूप में किया गया था, जैसा कि उन्होंने कहा: \"मैं यह कैसे एक वार्षिकी के रूप में किया जा सकता है के रूप में यह एक कानून का पालन करने के लिए किया जा सकता है\" के रूप में उन्होंने कहा: \"मैं यह हर साल के लिए एक शुल्क के रूप में किया गया है कि यह एक कानून का पालन करने के लिए किया गया है। Capantaghy Caka Conta vs ver ver में, (हमारे सामने से जुड़ा कानून) भगवान Halid उच्च अदालत के बॆन को इन शब्दों के साथ सहमत किया गया निर्माण का मतलब है एक वार्षिक आरोप के लिए एक वार्षिकी का मतलब है। आम तौर पर कर देने के लिए कर रहे हैं कि वे कर रहे हैं या कर के लिए तैयार कर रहे हैं, जबकि वे सालाना कर पर कर रहे हैं, जबकि वे सालाना कर रहे हैं और वे कर रहे हैं। सुविधा के लिए छः महीने की सुविधा के लिए, कि आय कर का ख़ुद एक वार्षिक आधार पर पता लगाया जाता है, कि परीक्षण के दौरान सभी भुगतान या सभी भुगतानों की अनुमति दी जानी चाहिए और कि 9 खंड की भाषा में कर में स्पष्ट रूप से गिर गया. मांग की एक सूचना जारी की जा रही है और एक वीसियन रिस्टियन रिस्टिस्टर (१) यह प्रभु के घर में आयोजित किया गया था कि कुछ भुगतानों के लिए निर्भर थे और चर राशि में उनके चरित्र को प्रभावित नहीं किया गया था वार्षिक भुगतान होने के लिए और शब्द, \"अनुत्र\" के रूप में किया जाना चाहिए या उस पर निर्भर होने के योग्य होने के योग्य होने के लिए. Cudonsonseudseueududue. Cueueueue की अनुमति दी जा रही थी (२) तो यह है कि हर साल के अंदर की भुगतान करने के लिए सक्षम किया जा रहा था और फिर से भुगतान करने के लिए सक्षम किया गया था (२) ( १) हालाँकि यह ज़रूरी नहीं था कि वे साल में अलग - अलग तरह के हों, फिर भी समय - समय पर एक - दूसरे से अलग न हों, फिर भी यह ज़रूरी नहीं था कि वे हर साल अलग - अलग तरह के लोगों से अलग - अलग थे\n"
     ]
    }
   ],
   "source": [
    "from transformers import MarianMTModel, MarianTokenizer\n",
    "\n",
    "model_name_hindi = 'Helsinki-NLP/opus-mt-en-hi'\n",
    "tokenizer_hindi = MarianTokenizer.from_pretrained(model_name_hindi)\n",
    "model_hindi = MarianMTModel.from_pretrained(model_name_hindi)\n",
    "\n",
    "def translate_text_chunked(text, model, tokenizer, max_chunk_size):\n",
    "    \n",
    "    chunks = [text[i:i+max_chunk_size] for i in range(0, len(text), max_chunk_size)]\n",
    "    \n",
    "    translated_text = \"\"\n",
    "    for chunk in chunks:\n",
    "        \n",
    "        translated_chunk = translate_text(chunk, model, tokenizer)\n",
    "        \n",
    "        translated_text += translated_chunk + \" \"\n",
    "    \n",
    "    return translated_text.strip() \n",
    "\n",
    "def translate_text(text, model, tokenizer):\n",
    "    \n",
    "    inputs = tokenizer(text, return_tensors=\"pt\", max_length=512, truncation=True)\n",
    "    \n",
    "    translated = model.generate(**inputs)\n",
    "    translated_text = tokenizer.decode(translated[0], skip_special_tokens=True)\n",
    "    return translated_text\n",
    "\n",
    "\n",
    "max_chunk_size = 512\n",
    "\n",
    "translated_text_hindi_chunked = translate_text_chunked(final_summary, model_hindi, tokenizer_hindi, max_chunk_size)\n",
    "\n",
    "print( translated_text_hindi_chunked)\n"
   ]
  },
  {
   "cell_type": "code",
   "execution_count": 11,
   "metadata": {},
   "outputs": [],
   "source": [
    "from gtts import gTTS\n",
    "def generate_audio(text, filename):\n",
    "    tts = gTTS(text=text, lang='en')\n",
    "    tts.save(filename)\n",
    "filename = 'summary_english.mp3'\n",
    "generate_audio(final_summary, filename)"
   ]
  }
 ],
 "metadata": {
  "kernelspec": {
   "display_name": "Python 3",
   "language": "python",
   "name": "python3"
  },
  "language_info": {
   "codemirror_mode": {
    "name": "ipython",
    "version": 3
   },
   "file_extension": ".py",
   "mimetype": "text/x-python",
   "name": "python",
   "nbconvert_exporter": "python",
   "pygments_lexer": "ipython3",
   "version": "3.8.0"
  }
 },
 "nbformat": 4,
 "nbformat_minor": 2
}
